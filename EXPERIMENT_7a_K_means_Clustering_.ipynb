{
  "nbformat": 4,
  "nbformat_minor": 0,
  "metadata": {
    "kernelspec": {
      "display_name": "Python 3",
      "language": "python",
      "name": "python3"
    },
    "language_info": {
      "codemirror_mode": {
        "name": "ipython",
        "version": 3
      },
      "file_extension": ".py",
      "mimetype": "text/x-python",
      "name": "python",
      "nbconvert_exporter": "python",
      "pygments_lexer": "ipython3",
      "version": "3.7.3"
    },
    "colab": {
      "name": "EXPERIMENT-7a-K-means Clustering .ipynb",
      "provenance": [],
      "include_colab_link": true
    }
  },
  "cells": [
    {
      "cell_type": "markdown",
      "metadata": {
        "id": "view-in-github",
        "colab_type": "text"
      },
      "source": [
        "<a href=\"https://colab.research.google.com/github/19pa1a0220/AI-LAB/blob/master/EXPERIMENT_7a_K_means_Clustering_.ipynb\" target=\"_parent\"><img src=\"https://colab.research.google.com/assets/colab-badge.svg\" alt=\"Open In Colab\"/></a>"
      ]
    },
    {
      "cell_type": "markdown",
      "metadata": {
        "id": "HLUz84WMuR4X"
      },
      "source": [
        "# EXPERIMENT 7-a \r\n",
        "##K MEANS CLUSTERING"
      ]
    },
    {
      "cell_type": "markdown",
      "metadata": {
        "id": "-b0DdgMMuR4Z"
      },
      "source": [
        "## 1) Import the packages"
      ]
    },
    {
      "cell_type": "code",
      "metadata": {
        "id": "hcigXBVjuR4a"
      },
      "source": [
        "import pandas as pd\n",
        "import numpy as np\n",
        "from sklearn.cluster import KMeans\n",
        "import matplotlib.pyplot as plt"
      ],
      "execution_count": null,
      "outputs": []
    },
    {
      "cell_type": "markdown",
      "metadata": {
        "id": "QL1AzcHBuR4b"
      },
      "source": [
        "## 2) Import the data"
      ]
    },
    {
      "cell_type": "code",
      "metadata": {
        "id": "PNP-2ux6uR4c",
        "colab": {
          "base_uri": "https://localhost:8080/",
          "height": 204
        },
        "outputId": "86c1f7f1-fed1-41ae-971f-e0639dbb28b9"
      },
      "source": [
        "data=pd.read_csv(\"hclustdata.csv\")\n",
        "data.head() # Check the first 5 rows of the data."
      ],
      "execution_count": null,
      "outputs": [
        {
          "output_type": "execute_result",
          "data": {
            "text/html": [
              "<div>\n",
              "<style scoped>\n",
              "    .dataframe tbody tr th:only-of-type {\n",
              "        vertical-align: middle;\n",
              "    }\n",
              "\n",
              "    .dataframe tbody tr th {\n",
              "        vertical-align: top;\n",
              "    }\n",
              "\n",
              "    .dataframe thead th {\n",
              "        text-align: right;\n",
              "    }\n",
              "</style>\n",
              "<table border=\"1\" class=\"dataframe\">\n",
              "  <thead>\n",
              "    <tr style=\"text-align: right;\">\n",
              "      <th></th>\n",
              "      <th>Na0e</th>\n",
              "      <th>Gender</th>\n",
              "      <th>SSC Perc\\nentage</th>\n",
              "      <th>inter/Diplo0a perc</th>\n",
              "      <th>B.Tech perc</th>\n",
              "      <th>Back\\nlogs</th>\n",
              "    </tr>\n",
              "  </thead>\n",
              "  <tbody>\n",
              "    <tr>\n",
              "      <th>0</th>\n",
              "      <td>ARIGELA AVINASH</td>\n",
              "      <td>0</td>\n",
              "      <td>87.3</td>\n",
              "      <td>65.3</td>\n",
              "      <td>40.00</td>\n",
              "      <td>18</td>\n",
              "    </tr>\n",
              "    <tr>\n",
              "      <th>1</th>\n",
              "      <td>BALADARI KEERTHANA</td>\n",
              "      <td>1</td>\n",
              "      <td>89.0</td>\n",
              "      <td>92.4</td>\n",
              "      <td>71.45</td>\n",
              "      <td>0</td>\n",
              "    </tr>\n",
              "    <tr>\n",
              "      <th>2</th>\n",
              "      <td>BAVIRISETTI PRAVALIKA</td>\n",
              "      <td>1</td>\n",
              "      <td>67.0</td>\n",
              "      <td>68.0</td>\n",
              "      <td>45.26</td>\n",
              "      <td>13</td>\n",
              "    </tr>\n",
              "    <tr>\n",
              "      <th>3</th>\n",
              "      <td>BODDU SAI BABA</td>\n",
              "      <td>0</td>\n",
              "      <td>71.0</td>\n",
              "      <td>70.4</td>\n",
              "      <td>36.47</td>\n",
              "      <td>17</td>\n",
              "    </tr>\n",
              "    <tr>\n",
              "      <th>4</th>\n",
              "      <td>BONDAPALLISRINIVAS</td>\n",
              "      <td>0</td>\n",
              "      <td>67.0</td>\n",
              "      <td>65.5</td>\n",
              "      <td>42.52</td>\n",
              "      <td>17</td>\n",
              "    </tr>\n",
              "  </tbody>\n",
              "</table>\n",
              "</div>"
            ],
            "text/plain": [
              "                    Na0e  Gender  ...  B.Tech perc  Back\\nlogs\n",
              "0        ARIGELA AVINASH       0  ...        40.00          18\n",
              "1     BALADARI KEERTHANA       1  ...        71.45           0\n",
              "2  BAVIRISETTI PRAVALIKA       1  ...        45.26          13\n",
              "3         BODDU SAI BABA       0  ...        36.47          17\n",
              "4     BONDAPALLISRINIVAS       0  ...        42.52          17\n",
              "\n",
              "[5 rows x 6 columns]"
            ]
          },
          "metadata": {
            "tags": []
          },
          "execution_count": 57
        }
      ]
    },
    {
      "cell_type": "code",
      "metadata": {
        "id": "mb6qOwWSuR4e",
        "colab": {
          "base_uri": "https://localhost:8080/",
          "height": 297
        },
        "outputId": "1936c6da-2190-472b-f496-ac4f75a5b125"
      },
      "source": [
        "data.describe()"
      ],
      "execution_count": null,
      "outputs": [
        {
          "output_type": "execute_result",
          "data": {
            "text/html": [
              "<div>\n",
              "<style scoped>\n",
              "    .dataframe tbody tr th:only-of-type {\n",
              "        vertical-align: middle;\n",
              "    }\n",
              "\n",
              "    .dataframe tbody tr th {\n",
              "        vertical-align: top;\n",
              "    }\n",
              "\n",
              "    .dataframe thead th {\n",
              "        text-align: right;\n",
              "    }\n",
              "</style>\n",
              "<table border=\"1\" class=\"dataframe\">\n",
              "  <thead>\n",
              "    <tr style=\"text-align: right;\">\n",
              "      <th></th>\n",
              "      <th>Gender</th>\n",
              "      <th>SSC Perc\\nentage</th>\n",
              "      <th>inter/Diplo0a perc</th>\n",
              "      <th>B.Tech perc</th>\n",
              "      <th>Back\\nlogs</th>\n",
              "    </tr>\n",
              "  </thead>\n",
              "  <tbody>\n",
              "    <tr>\n",
              "      <th>count</th>\n",
              "      <td>117.000000</td>\n",
              "      <td>117.000000</td>\n",
              "      <td>117.000000</td>\n",
              "      <td>117.000000</td>\n",
              "      <td>117.000000</td>\n",
              "    </tr>\n",
              "    <tr>\n",
              "      <th>mean</th>\n",
              "      <td>0.418803</td>\n",
              "      <td>80.238889</td>\n",
              "      <td>80.781453</td>\n",
              "      <td>62.943111</td>\n",
              "      <td>4.111111</td>\n",
              "    </tr>\n",
              "    <tr>\n",
              "      <th>std</th>\n",
              "      <td>0.495485</td>\n",
              "      <td>8.882000</td>\n",
              "      <td>11.271626</td>\n",
              "      <td>12.064580</td>\n",
              "      <td>6.335148</td>\n",
              "    </tr>\n",
              "    <tr>\n",
              "      <th>min</th>\n",
              "      <td>0.000000</td>\n",
              "      <td>47.800000</td>\n",
              "      <td>52.200000</td>\n",
              "      <td>31.200000</td>\n",
              "      <td>0.000000</td>\n",
              "    </tr>\n",
              "    <tr>\n",
              "      <th>25%</th>\n",
              "      <td>0.000000</td>\n",
              "      <td>75.500000</td>\n",
              "      <td>73.400000</td>\n",
              "      <td>54.181818</td>\n",
              "      <td>0.000000</td>\n",
              "    </tr>\n",
              "    <tr>\n",
              "      <th>50%</th>\n",
              "      <td>0.000000</td>\n",
              "      <td>82.300000</td>\n",
              "      <td>83.600000</td>\n",
              "      <td>64.360000</td>\n",
              "      <td>0.000000</td>\n",
              "    </tr>\n",
              "    <tr>\n",
              "      <th>75%</th>\n",
              "      <td>1.000000</td>\n",
              "      <td>87.000000</td>\n",
              "      <td>90.000000</td>\n",
              "      <td>72.570000</td>\n",
              "      <td>7.000000</td>\n",
              "    </tr>\n",
              "    <tr>\n",
              "      <th>max</th>\n",
              "      <td>1.000000</td>\n",
              "      <td>93.660000</td>\n",
              "      <td>96.900000</td>\n",
              "      <td>88.100000</td>\n",
              "      <td>25.000000</td>\n",
              "    </tr>\n",
              "  </tbody>\n",
              "</table>\n",
              "</div>"
            ],
            "text/plain": [
              "           Gender  SSC Perc\\nentage  ...  B.Tech perc  Back\\nlogs\n",
              "count  117.000000        117.000000  ...   117.000000  117.000000\n",
              "mean     0.418803         80.238889  ...    62.943111    4.111111\n",
              "std      0.495485          8.882000  ...    12.064580    6.335148\n",
              "min      0.000000         47.800000  ...    31.200000    0.000000\n",
              "25%      0.000000         75.500000  ...    54.181818    0.000000\n",
              "50%      0.000000         82.300000  ...    64.360000    0.000000\n",
              "75%      1.000000         87.000000  ...    72.570000    7.000000\n",
              "max      1.000000         93.660000  ...    88.100000   25.000000\n",
              "\n",
              "[8 rows x 5 columns]"
            ]
          },
          "metadata": {
            "tags": []
          },
          "execution_count": 37
        }
      ]
    },
    {
      "cell_type": "markdown",
      "metadata": {
        "id": "G4_mOVqiuR4e"
      },
      "source": [
        "## 3) Pre-processing the data\n",
        "Here we want to cluster students based on their Inter_diploma percentage and B.Tech percentage."
      ]
    },
    {
      "cell_type": "code",
      "metadata": {
        "id": "6Xsj10Y0uR4f",
        "colab": {
          "base_uri": "https://localhost:8080/"
        },
        "outputId": "0a70342b-aa30-4a0d-f27e-4736b403795f"
      },
      "source": [
        "data1 = data.iloc[:, [3,4]].values # 3 means inter_diploma percentage and 4 means B.Tech percentage\n",
        "data1"
      ],
      "execution_count": null,
      "outputs": [
        {
          "output_type": "execute_result",
          "data": {
            "text/plain": [
              "array([[65.3       , 40.        ],\n",
              "       [92.4       , 71.45      ],\n",
              "       [68.        , 45.26      ],\n",
              "       [70.4       , 36.47      ],\n",
              "       [65.5       , 42.52      ],\n",
              "       [68.        , 62.2       ],\n",
              "       [56.5       , 33.77      ],\n",
              "       [79.3       , 61.02      ],\n",
              "       [89.6       , 53.        ],\n",
              "       [75.5       , 51.        ],\n",
              "       [76.3       , 71.49      ],\n",
              "       [66.        , 49.67272727],\n",
              "       [60.3       , 54.74      ],\n",
              "       [88.7       , 74.96      ],\n",
              "       [52.2       , 50.55      ],\n",
              "       [87.        , 75.96      ],\n",
              "       [85.        , 70.01      ],\n",
              "       [95.1       , 85.39      ],\n",
              "       [86.3       , 71.65      ],\n",
              "       [93.6       , 74.34      ],\n",
              "       [90.3       , 76.9       ],\n",
              "       [83.9       , 73.01      ],\n",
              "       [83.        , 68.3       ],\n",
              "       [90.4       , 70.3       ],\n",
              "       [87.2       , 54.18181818],\n",
              "       [78.3       , 55.82      ],\n",
              "       [81.        , 61.        ],\n",
              "       [65.3       , 38.        ],\n",
              "       [67.1       , 64.36      ],\n",
              "       [88.1       , 69.6       ],\n",
              "       [96.5       , 74.25      ],\n",
              "       [77.7       , 58.        ],\n",
              "       [88.9       , 71.94      ],\n",
              "       [80.1       , 42.        ],\n",
              "       [78.4       , 65.7       ],\n",
              "       [90.        , 68.7       ],\n",
              "       [91.4       , 75.42      ],\n",
              "       [94.3       , 72.68      ],\n",
              "       [76.8       , 51.        ],\n",
              "       [88.8       , 67.5       ],\n",
              "       [91.4       , 72.74      ],\n",
              "       [61.2       , 58.67      ],\n",
              "       [67.5       , 45.45454545],\n",
              "       [92.5       , 70.85      ],\n",
              "       [83.7       , 69.48      ],\n",
              "       [84.4       , 72.57      ],\n",
              "       [76.9       , 59.53      ],\n",
              "       [89.1       , 67.06      ],\n",
              "       [77.2       , 52.0969697 ],\n",
              "       [93.8       , 77.5       ],\n",
              "       [92.2       , 78.        ],\n",
              "       [79.        , 55.49      ],\n",
              "       [73.4       , 52.        ],\n",
              "       [84.5       , 67.21      ],\n",
              "       [83.6       , 60.35      ],\n",
              "       [92.        , 70.85      ],\n",
              "       [56.7       , 31.2       ],\n",
              "       [67.8       , 52.31515152],\n",
              "       [93.7       , 77.95      ],\n",
              "       [94.7       , 81.1       ],\n",
              "       [85.6       , 60.72      ],\n",
              "       [91.2       , 74.3       ],\n",
              "       [76.5       , 52.        ],\n",
              "       [69.2       , 49.67272727],\n",
              "       [94.2       , 78.6       ],\n",
              "       [91.6       , 72.4       ],\n",
              "       [90.4       , 72.47      ],\n",
              "       [89.9       , 75.13      ],\n",
              "       [61.        , 52.55757576],\n",
              "       [52.4       , 44.72430225],\n",
              "       [95.6       , 80.47      ],\n",
              "       [93.        , 59.        ],\n",
              "       [83.7       , 68.9       ],\n",
              "       [80.1       , 63.41      ],\n",
              "       [81.7       , 73.13      ],\n",
              "       [87.8       , 56.87272727],\n",
              "       [59.        , 51.05454545],\n",
              "       [91.7       , 73.09      ],\n",
              "       [86.        , 65.6       ],\n",
              "       [81.        , 57.74545455],\n",
              "       [91.9       , 62.15151515],\n",
              "       [91.6       , 70.09      ],\n",
              "       [90.5       , 57.79393939],\n",
              "       [88.9       , 63.        ],\n",
              "       [88.4       , 76.02      ],\n",
              "       [83.8       , 69.48      ],\n",
              "       [54.2       , 60.53      ],\n",
              "       [73.6       , 42.        ],\n",
              "       [77.7       , 62.99      ],\n",
              "       [83.        , 62.97      ],\n",
              "       [80.2       , 54.        ],\n",
              "       [79.9       , 68.7       ],\n",
              "       [89.1       , 61.68      ],\n",
              "       [81.        , 51.        ],\n",
              "       [88.6       , 69.62      ],\n",
              "       [61.1       , 62.98      ],\n",
              "       [96.9       , 88.1       ],\n",
              "       [80.4       , 72.73      ],\n",
              "       [93.9       , 78.6       ],\n",
              "       [84.1       , 72.57      ],\n",
              "       [64.2       , 65.46      ],\n",
              "       [89.6       , 83.38      ],\n",
              "       [93.7       , 76.35      ],\n",
              "       [67.9       , 53.26      ],\n",
              "       [62.6       , 64.63      ],\n",
              "       [73.        , 57.3       ],\n",
              "       [69.6       , 56.89      ],\n",
              "       [81.01      , 58.        ],\n",
              "       [70.91      , 55.7       ],\n",
              "       [73.        , 42.16666667],\n",
              "       [75.13      , 54.16      ],\n",
              "       [69.        , 61.        ],\n",
              "       [78.6       , 35.83333333],\n",
              "       [85.12      , 68.5       ],\n",
              "       [89.9       , 76.3       ],\n",
              "       [90.63      , 74.5       ],\n",
              "       [83.33      , 65.53      ]])"
            ]
          },
          "metadata": {
            "tags": []
          },
          "execution_count": 61
        }
      ]
    },
    {
      "cell_type": "code",
      "metadata": {
        "id": "C0mGYvU-uR4f",
        "colab": {
          "base_uri": "https://localhost:8080/"
        },
        "outputId": "b08a86a5-ef26-46e6-bb3b-bbc4b430fc39"
      },
      "source": [
        "type(data1) # Note that the output is in the form of numpy array."
      ],
      "execution_count": null,
      "outputs": [
        {
          "output_type": "execute_result",
          "data": {
            "text/plain": [
              "numpy.ndarray"
            ]
          },
          "metadata": {
            "tags": []
          },
          "execution_count": 60
        }
      ]
    },
    {
      "cell_type": "code",
      "metadata": {
        "id": "wvViXiJSuR4g",
        "colab": {
          "base_uri": "https://localhost:8080/",
          "height": 297
        },
        "outputId": "8c35dca7-1ce9-41c3-d9b7-5d984260e0a4"
      },
      "source": [
        "# Now our data is in \"data 1\", Where [:0] represents Inter_diploma percentage and [:,1] represents B.Tech percentage\n",
        "# Just plot the data for preliminary analysis.\n",
        "plt.scatter(data1[:,0],data1[:,1])\n",
        "plt.xlabel(\"Inter Percentage\")\n",
        "plt.ylabel(\"B.Tech Percentage\")"
      ],
      "execution_count": null,
      "outputs": [
        {
          "output_type": "execute_result",
          "data": {
            "text/plain": [
              "Text(0, 0.5, 'B.Tech Percentage')"
            ]
          },
          "metadata": {
            "tags": []
          },
          "execution_count": 62
        },
        {
          "output_type": "display_data",
          "data": {
            "image/png": "[encoded data removed]",
            "text/plain": [
              "<Figure size 432x288 with 1 Axes>"
            ]
          },
          "metadata": {
            "tags": [],
            "needs_background": "light"
          }
        }
      ]
    },
    {
      "cell_type": "markdown",
      "metadata": {
        "id": "0OjXCB3IuR4h"
      },
      "source": [
        "## 4) Now use the Kmeans algorithm from sklearn ."
      ]
    },
    {
      "cell_type": "code",
      "metadata": {
        "id": "mQzu3ZVDuR4h"
      },
      "source": [
        "clust=KMeans(n_clusters=2) # Lets create the \"clust\" object. Here the number of clusters desired as 2. "
      ],
      "execution_count": null,
      "outputs": []
    },
    {
      "cell_type": "code",
      "metadata": {
        "id": "26by4pWsuR4h",
        "colab": {
          "base_uri": "https://localhost:8080/"
        },
        "outputId": "8a789271-e94a-4948-fe26-f903bb365a6d"
      },
      "source": [
        "model=clust.fit_predict(data1) # Now apply the \"clust object on training data and build a model. Let's name it as \"model\"\n",
        "model"
      ],
      "execution_count": null,
      "outputs": [
        {
          "output_type": "execute_result",
          "data": {
            "text/plain": [
              "array([1, 0, 1, 1, 1, 1, 1, 0, 0, 1, 0, 1, 1, 0, 1, 0, 0, 0, 0, 0, 0, 0,\n",
              "       0, 0, 0, 1, 0, 1, 1, 0, 0, 1, 0, 1, 0, 0, 0, 0, 1, 0, 0, 1, 1, 0,\n",
              "       0, 0, 1, 0, 1, 0, 0, 1, 1, 0, 0, 0, 1, 1, 0, 0, 0, 0, 1, 1, 0, 0,\n",
              "       0, 0, 1, 1, 0, 0, 0, 0, 0, 0, 1, 0, 0, 1, 0, 0, 0, 0, 0, 0, 1, 1,\n",
              "       0, 0, 1, 0, 0, 1, 0, 1, 0, 0, 0, 0, 1, 0, 0, 1, 1, 1, 1, 1, 1, 1,\n",
              "       1, 1, 1, 0, 0, 0, 0], dtype=int32)"
            ]
          },
          "metadata": {
            "tags": []
          },
          "execution_count": 64
        }
      ]
    },
    {
      "cell_type": "markdown",
      "metadata": {
        "id": "yXnIcL6luR4i"
      },
      "source": [
        "### The data numbers above indicate the cluster. Since, we have 2 clusters, all \"0\" belong to a cluster. And, all \"1\" belongs to another cluster"
      ]
    },
    {
      "cell_type": "code",
      "metadata": {
        "id": "p2Oi71ebuR4i",
        "colab": {
          "base_uri": "https://localhost:8080/"
        },
        "outputId": "81b21e9d-af6e-463d-c2a3-73f5c6aa1034"
      },
      "source": [
        "clust.cluster_centers_ # returns the cluster centroids."
      ],
      "execution_count": null,
      "outputs": [
        {
          "output_type": "execute_result",
          "data": {
            "text/plain": [
              "array([[88.23352113, 70.41633803],\n",
              "       [69.27934783, 51.40834781]])"
            ]
          },
          "metadata": {
            "tags": []
          },
          "execution_count": 43
        }
      ]
    },
    {
      "cell_type": "markdown",
      "metadata": {
        "id": "zt7N0TRxuR4i"
      },
      "source": [
        "## 5) Now let's visualize the data again. \n",
        "This time, based on the output of the model, all \"0\"s are marked in a colour. And, all \"1\"s are marked in another colour. This is done using \"cmap=\"rainbow\" and \"c=model\"\n",
        "\n",
        "We got the cluster centroids using \"clust.cluster_centers_\". It will be good if we plot them too. They are indicated with thick black points using scatter function."
      ]
    },
    {
      "cell_type": "code",
      "metadata": {
        "id": "wbbInVcEuR4j",
        "colab": {
          "base_uri": "https://localhost:8080/",
          "height": 297
        },
        "outputId": "84dcff13-4205-47c0-faba-2e8e14e92111"
      },
      "source": [
        "plt.scatter(data1[:,0],data1[:,1],c=model,cmap='rainbow')\n",
        "plt.xlabel(\"Inter Percentage\")\n",
        "plt.ylabel(\"B.Tech Percentage\")\n",
        "\n",
        "centers = clust.cluster_centers_\n",
        "plt.scatter(centers[:, 0], centers[:, 1], c='black', s=200)"
      ],
      "execution_count": null,
      "outputs": [
        {
          "output_type": "execute_result",
          "data": {
            "text/plain": [
              "<matplotlib.collections.PathCollection at 0x7fb285b5ef60>"
            ]
          },
          "metadata": {
            "tags": []
          },
          "execution_count": 70
        },
        {
          "output_type": "display_data",
          "data": {
            "image/png": "[encoded data removed]",
            "text/plain": [
              "<Figure size 432x288 with 1 Axes>"
            ]
          },
          "metadata": {
            "tags": [],
            "needs_background": "light"
          }
        }
      ]
    },
    {
      "cell_type": "code",
      "metadata": {
        "id": "b04DuOH_uR4j",
        "colab": {
          "base_uri": "https://localhost:8080/",
          "height": 204
        },
        "outputId": "938ea0c0-b6ba-431a-e221-14f9f3c89806"
      },
      "source": [
        "data[\"clusters\"]=pd.Series(model)\n",
        "data.head()"
      ],
      "execution_count": null,
      "outputs": [
        {
          "output_type": "execute_result",
          "data": {
            "text/html": [
              "<div>\n",
              "<style scoped>\n",
              "    .dataframe tbody tr th:only-of-type {\n",
              "        vertical-align: middle;\n",
              "    }\n",
              "\n",
              "    .dataframe tbody tr th {\n",
              "        vertical-align: top;\n",
              "    }\n",
              "\n",
              "    .dataframe thead th {\n",
              "        text-align: right;\n",
              "    }\n",
              "</style>\n",
              "<table border=\"1\" class=\"dataframe\">\n",
              "  <thead>\n",
              "    <tr style=\"text-align: right;\">\n",
              "      <th></th>\n",
              "      <th>Na0e</th>\n",
              "      <th>Gender</th>\n",
              "      <th>SSC Perc\\nentage</th>\n",
              "      <th>inter/Diplo0a perc</th>\n",
              "      <th>B.Tech perc</th>\n",
              "      <th>Back\\nlogs</th>\n",
              "      <th>clusters</th>\n",
              "    </tr>\n",
              "  </thead>\n",
              "  <tbody>\n",
              "    <tr>\n",
              "      <th>0</th>\n",
              "      <td>ARIGELA AVINASH</td>\n",
              "      <td>0</td>\n",
              "      <td>87.3</td>\n",
              "      <td>65.3</td>\n",
              "      <td>40.00</td>\n",
              "      <td>18</td>\n",
              "      <td>1</td>\n",
              "    </tr>\n",
              "    <tr>\n",
              "      <th>1</th>\n",
              "      <td>BALADARI KEERTHANA</td>\n",
              "      <td>1</td>\n",
              "      <td>89.0</td>\n",
              "      <td>92.4</td>\n",
              "      <td>71.45</td>\n",
              "      <td>0</td>\n",
              "      <td>0</td>\n",
              "    </tr>\n",
              "    <tr>\n",
              "      <th>2</th>\n",
              "      <td>BAVIRISETTI PRAVALIKA</td>\n",
              "      <td>1</td>\n",
              "      <td>67.0</td>\n",
              "      <td>68.0</td>\n",
              "      <td>45.26</td>\n",
              "      <td>13</td>\n",
              "      <td>1</td>\n",
              "    </tr>\n",
              "    <tr>\n",
              "      <th>3</th>\n",
              "      <td>BODDU SAI BABA</td>\n",
              "      <td>0</td>\n",
              "      <td>71.0</td>\n",
              "      <td>70.4</td>\n",
              "      <td>36.47</td>\n",
              "      <td>17</td>\n",
              "      <td>1</td>\n",
              "    </tr>\n",
              "    <tr>\n",
              "      <th>4</th>\n",
              "      <td>BONDAPALLISRINIVAS</td>\n",
              "      <td>0</td>\n",
              "      <td>67.0</td>\n",
              "      <td>65.5</td>\n",
              "      <td>42.52</td>\n",
              "      <td>17</td>\n",
              "      <td>1</td>\n",
              "    </tr>\n",
              "  </tbody>\n",
              "</table>\n",
              "</div>"
            ],
            "text/plain": [
              "                    Na0e  Gender  ...  Back\\nlogs  clusters\n",
              "0        ARIGELA AVINASH       0  ...          18         1\n",
              "1     BALADARI KEERTHANA       1  ...           0         0\n",
              "2  BAVIRISETTI PRAVALIKA       1  ...          13         1\n",
              "3         BODDU SAI BABA       0  ...          17         1\n",
              "4     BONDAPALLISRINIVAS       0  ...          17         1\n",
              "\n",
              "[5 rows x 7 columns]"
            ]
          },
          "metadata": {
            "tags": []
          },
          "execution_count": 45
        }
      ]
    },
    {
      "cell_type": "markdown",
      "metadata": {
        "id": "OfSyp5-ZuR4j"
      },
      "source": [
        "We are done with k-means. But if you cannot decide on k value, then you can use _kmeanModel.inertia_ to find ideal value of k."
      ]
    },
    {
      "cell_type": "markdown",
      "metadata": {
        "id": "7rxczttKuR4j"
      },
      "source": [
        "## 6) How to find correct value of K?"
      ]
    },
    {
      "cell_type": "markdown",
      "metadata": {
        "id": "XMd3kY12uR4k"
      },
      "source": [
        "###  _Inertia actually calculates the sum of distances of all the points within a cluster from the centroid of that cluster._\n",
        "The formula is given below."
      ]
    },
    {
      "cell_type": "markdown",
      "metadata": {
        "id": "Vru-ZPsIuR4k"
      },
      "source": [
        "![Capture.JPG](attachment:Capture.JPG)"
      ]
    },
    {
      "cell_type": "code",
      "metadata": {
        "id": "hM5YZlRCuR4k"
      },
      "source": [
        "# For each value of k, check the inertia. \n",
        "# I am checking k value from 1 to 10. I dont want more than 10 clusters. So, i am running loop from 1 to 10.\n",
        "\n",
        "# For every value of k, i am building the model and checking the performance on the data using inertia.\n",
        "distortions = [] \n",
        "K = range(1,10)\n",
        "for k in K:\n",
        "    kmeanModel = KMeans(n_clusters=k)\n",
        "    kmeanModel.fit(data1) \n",
        "    distortions.append(kmeanModel.inertia_) # The output of \"kmeanModel.inertia_\" is kept in a list named \"distortions\"."
      ],
      "execution_count": null,
      "outputs": []
    },
    {
      "cell_type": "code",
      "metadata": {
        "id": "AKXmKNYJuR4k",
        "colab": {
          "base_uri": "https://localhost:8080/",
          "height": 295
        },
        "outputId": "de658cf9-0036-4e0c-cba5-9ab041ef3027"
      },
      "source": [
        "# Now plot a graph between value of k and distortions. \n",
        "\n",
        "\n",
        "plt.figure(figsize=(4,4))\n",
        "plt.plot(K, distortions, 'bx-') # \"bx-\" is used to mark the points\"\n",
        "plt.xlabel('k')\n",
        "plt.ylabel('Distortion')\n",
        "plt.title('The Elbow Method showing the optimal k')\n",
        "plt.show()"
      ],
      "execution_count": null,
      "outputs": [
        {
          "output_type": "display_data",
          "data": {
            "image/png": "[encoded data removed]",
            "text/plain": [
              "<Figure size 288x288 with 1 Axes>"
            ]
          },
          "metadata": {
            "tags": [],
            "needs_background": "light"
          }
        }
      ]
    },
    {
      "cell_type": "markdown",
      "metadata": {
        "id": "yjsdIcBouR4k"
      },
      "source": [
        "### Elbow method:\n",
        "To determine the optimal number of clusters, we have to select the value of k at the “elbow” ie the point after which the distortion/inertia start decreasing in a linear fashion. Thus for the given data, we conclude that the optimal number of clusters for the data is 2."
      ]
    },
    {
      "cell_type": "code",
      "metadata": {
        "id": "eeKCb_A4uR4l"
      },
      "source": [
        "# we made a right guess. we get the correct result with value of k=2"
      ],
      "execution_count": null,
      "outputs": []
    },
    {
      "cell_type": "code",
      "metadata": {
        "id": "CC7sQzLruR4l"
      },
      "source": [
        ""
      ],
      "execution_count": null,
      "outputs": []
    }
  ]
}