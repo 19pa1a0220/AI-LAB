{
  "nbformat": 4,
  "nbformat_minor": 0,
  "metadata": {
    "kernelspec": {
      "display_name": "Python 3",
      "language": "python",
      "name": "python3"
    },
    "language_info": {
      "codemirror_mode": {
        "name": "ipython",
        "version": 3
      },
      "file_extension": ".py",
      "mimetype": "text/x-python",
      "name": "python",
      "nbconvert_exporter": "python",
      "pygments_lexer": "ipython3",
      "version": "3.8.3"
    },
    "colab": {
      "name": "EXPERIMENT-9-Ensemble based approach.ipynb",
      "provenance": [],
      "toc_visible": true,
      "include_colab_link": true
    }
  },
  "cells": [
    {
      "cell_type": "markdown",
      "metadata": {
        "id": "view-in-github",
        "colab_type": "text"
      },
      "source": [
        "<a href=\"https://colab.research.google.com/github/19pa1a0220/AI-LAB/blob/master/EXPERIMENT_9_Ensemble_based_approach.ipynb\" target=\"_parent\"><img src=\"https://colab.research.google.com/assets/colab-badge.svg\" alt=\"Open In Colab\"/></a>"
      ]
    },
    {
      "cell_type": "markdown",
      "metadata": {
        "id": "lWg8kI2ATCid"
      },
      "source": [
        "# Ensemble based approaches"
      ]
    },
    {
      "cell_type": "markdown",
      "metadata": {
        "id": "3cBaV697TCik"
      },
      "source": [
        "## 1) Import the packages"
      ]
    },
    {
      "cell_type": "code",
      "metadata": {
        "id": "vVS3IfH3TCil"
      },
      "source": [
        "import numpy as np\n",
        "import pandas as pd\n",
        "from sklearn.model_selection import train_test_split\n",
        "from sklearn.ensemble import RandomForestClassifier\n",
        "from sklearn.ensemble import AdaBoostClassifier\n",
        "from sklearn.tree import DecisionTreeClassifier\n",
        "from sklearn import metrics"
      ],
      "execution_count": null,
      "outputs": []
    },
    {
      "cell_type": "markdown",
      "metadata": {
        "id": "10jPUj8GTCil"
      },
      "source": [
        "## 2) Import the dataset"
      ]
    },
    {
      "cell_type": "code",
      "metadata": {
        "id": "PNi_aPuhTCim",
        "outputId": "b2705af9-9c7a-474c-acf2-ab3a63e4a88b"
      },
      "source": [
        "dataset=pd.read_csv(\"students_placement_data.csv\")\n",
        "dataset.head()"
      ],
      "execution_count": null,
      "outputs": [
        {
          "output_type": "execute_result",
          "data": {
            "text/html": [
              "<div>\n",
              "<style scoped>\n",
              "    .dataframe tbody tr th:only-of-type {\n",
              "        vertical-align: middle;\n",
              "    }\n",
              "\n",
              "    .dataframe tbody tr th {\n",
              "        vertical-align: top;\n",
              "    }\n",
              "\n",
              "    .dataframe thead th {\n",
              "        text-align: right;\n",
              "    }\n",
              "</style>\n",
              "<table border=\"1\" class=\"dataframe\">\n",
              "  <thead>\n",
              "    <tr style=\"text-align: right;\">\n",
              "      <th></th>\n",
              "      <th>Roll No</th>\n",
              "      <th>Gender</th>\n",
              "      <th>Section</th>\n",
              "      <th>SSC Percentage</th>\n",
              "      <th>inter_Diploma_percentage</th>\n",
              "      <th>B.Tech_percentage</th>\n",
              "      <th>Backlogs</th>\n",
              "      <th>registered_for_ Placement_Training</th>\n",
              "      <th>placement status</th>\n",
              "    </tr>\n",
              "  </thead>\n",
              "  <tbody>\n",
              "    <tr>\n",
              "      <th>0</th>\n",
              "      <td>1</td>\n",
              "      <td>M</td>\n",
              "      <td>A</td>\n",
              "      <td>87.3</td>\n",
              "      <td>65.3</td>\n",
              "      <td>40.00</td>\n",
              "      <td>18</td>\n",
              "      <td>NO</td>\n",
              "      <td>Not placed</td>\n",
              "    </tr>\n",
              "    <tr>\n",
              "      <th>1</th>\n",
              "      <td>2</td>\n",
              "      <td>F</td>\n",
              "      <td>A</td>\n",
              "      <td>89.0</td>\n",
              "      <td>92.4</td>\n",
              "      <td>71.45</td>\n",
              "      <td>0</td>\n",
              "      <td>yes</td>\n",
              "      <td>Placed</td>\n",
              "    </tr>\n",
              "    <tr>\n",
              "      <th>2</th>\n",
              "      <td>3</td>\n",
              "      <td>F</td>\n",
              "      <td>A</td>\n",
              "      <td>67.0</td>\n",
              "      <td>68.0</td>\n",
              "      <td>45.26</td>\n",
              "      <td>13</td>\n",
              "      <td>yes</td>\n",
              "      <td>Not placed</td>\n",
              "    </tr>\n",
              "    <tr>\n",
              "      <th>3</th>\n",
              "      <td>4</td>\n",
              "      <td>M</td>\n",
              "      <td>A</td>\n",
              "      <td>71.0</td>\n",
              "      <td>70.4</td>\n",
              "      <td>36.47</td>\n",
              "      <td>17</td>\n",
              "      <td>yes</td>\n",
              "      <td>Not placed</td>\n",
              "    </tr>\n",
              "    <tr>\n",
              "      <th>4</th>\n",
              "      <td>5</td>\n",
              "      <td>M</td>\n",
              "      <td>A</td>\n",
              "      <td>NaN</td>\n",
              "      <td>65.5</td>\n",
              "      <td>42.52</td>\n",
              "      <td>17</td>\n",
              "      <td>yes</td>\n",
              "      <td>Not placed</td>\n",
              "    </tr>\n",
              "  </tbody>\n",
              "</table>\n",
              "</div>"
            ],
            "text/plain": [
              "   Roll No Gender Section  SSC Percentage  inter_Diploma_percentage  \\\n",
              "0        1      M       A            87.3                      65.3   \n",
              "1        2      F       A            89.0                      92.4   \n",
              "2        3      F       A            67.0                      68.0   \n",
              "3        4      M       A            71.0                      70.4   \n",
              "4        5      M       A             NaN                      65.5   \n",
              "\n",
              "   B.Tech_percentage  Backlogs registered_for_ Placement_Training  \\\n",
              "0              40.00        18                                 NO   \n",
              "1              71.45         0                                yes   \n",
              "2              45.26        13                                yes   \n",
              "3              36.47        17                                yes   \n",
              "4              42.52        17                                yes   \n",
              "\n",
              "  placement status  \n",
              "0       Not placed  \n",
              "1           Placed  \n",
              "2       Not placed  \n",
              "3       Not placed  \n",
              "4       Not placed  "
            ]
          },
          "metadata": {
            "tags": []
          },
          "execution_count": 94
        }
      ]
    },
    {
      "cell_type": "markdown",
      "metadata": {
        "id": "xeuVSEKCTCin"
      },
      "source": [
        "## 3) Data preprocessing "
      ]
    },
    {
      "cell_type": "markdown",
      "metadata": {
        "id": "UFFSRA1ETCin"
      },
      "source": [
        "### 3.1) Check for missing values and fill it"
      ]
    },
    {
      "cell_type": "code",
      "metadata": {
        "id": "lK5PfFO-TCio",
        "outputId": "14b9e58b-814a-4240-ff2c-01015df29dba"
      },
      "source": [
        "dataset.isna().any()"
      ],
      "execution_count": null,
      "outputs": [
        {
          "output_type": "execute_result",
          "data": {
            "text/plain": [
              "Roll No                               False\n",
              "Gender                                False\n",
              "Section                               False\n",
              "SSC Percentage                         True\n",
              "inter_Diploma_percentage              False\n",
              "B.Tech_percentage                     False\n",
              "Backlogs                              False\n",
              "registered_for_ Placement_Training     True\n",
              "placement status                      False\n",
              "dtype: bool"
            ]
          },
          "metadata": {
            "tags": []
          },
          "execution_count": 95
        }
      ]
    },
    {
      "cell_type": "markdown",
      "metadata": {
        "id": "5q9cjhAhTCio"
      },
      "source": [
        "We see that \"SSC Percentage\" and \"registered_for_ Placement_Training\" are having missing values"
      ]
    },
    {
      "cell_type": "markdown",
      "metadata": {
        "id": "r-s0IUziTCio"
      },
      "source": [
        "### 3.1.1) We replace the missing values in \"SSC Percentage\" with mean SSC percentage of all students."
      ]
    },
    {
      "cell_type": "code",
      "metadata": {
        "id": "FKzF5NVnTCip",
        "outputId": "cad2bc9a-d61a-4c9d-f036-89200c9e0000"
      },
      "source": [
        "dataset[\"SSC Percentage\"]=dataset[\"SSC Percentage\"].replace(to_replace=np.nan,value=dataset[\"SSC Percentage\"].mean())  \n",
        "dataset.head()"
      ],
      "execution_count": null,
      "outputs": [
        {
          "output_type": "execute_result",
          "data": {
            "text/html": [
              "<div>\n",
              "<style scoped>\n",
              "    .dataframe tbody tr th:only-of-type {\n",
              "        vertical-align: middle;\n",
              "    }\n",
              "\n",
              "    .dataframe tbody tr th {\n",
              "        vertical-align: top;\n",
              "    }\n",
              "\n",
              "    .dataframe thead th {\n",
              "        text-align: right;\n",
              "    }\n",
              "</style>\n",
              "<table border=\"1\" class=\"dataframe\">\n",
              "  <thead>\n",
              "    <tr style=\"text-align: right;\">\n",
              "      <th></th>\n",
              "      <th>Roll No</th>\n",
              "      <th>Gender</th>\n",
              "      <th>Section</th>\n",
              "      <th>SSC Percentage</th>\n",
              "      <th>inter_Diploma_percentage</th>\n",
              "      <th>B.Tech_percentage</th>\n",
              "      <th>Backlogs</th>\n",
              "      <th>registered_for_ Placement_Training</th>\n",
              "      <th>placement status</th>\n",
              "    </tr>\n",
              "  </thead>\n",
              "  <tbody>\n",
              "    <tr>\n",
              "      <th>0</th>\n",
              "      <td>1</td>\n",
              "      <td>M</td>\n",
              "      <td>A</td>\n",
              "      <td>87.300000</td>\n",
              "      <td>65.3</td>\n",
              "      <td>40.00</td>\n",
              "      <td>18</td>\n",
              "      <td>NO</td>\n",
              "      <td>Not placed</td>\n",
              "    </tr>\n",
              "    <tr>\n",
              "      <th>1</th>\n",
              "      <td>2</td>\n",
              "      <td>F</td>\n",
              "      <td>A</td>\n",
              "      <td>89.000000</td>\n",
              "      <td>92.4</td>\n",
              "      <td>71.45</td>\n",
              "      <td>0</td>\n",
              "      <td>yes</td>\n",
              "      <td>Placed</td>\n",
              "    </tr>\n",
              "    <tr>\n",
              "      <th>2</th>\n",
              "      <td>3</td>\n",
              "      <td>F</td>\n",
              "      <td>A</td>\n",
              "      <td>67.000000</td>\n",
              "      <td>68.0</td>\n",
              "      <td>45.26</td>\n",
              "      <td>13</td>\n",
              "      <td>yes</td>\n",
              "      <td>Not placed</td>\n",
              "    </tr>\n",
              "    <tr>\n",
              "      <th>3</th>\n",
              "      <td>4</td>\n",
              "      <td>M</td>\n",
              "      <td>A</td>\n",
              "      <td>71.000000</td>\n",
              "      <td>70.4</td>\n",
              "      <td>36.47</td>\n",
              "      <td>17</td>\n",
              "      <td>yes</td>\n",
              "      <td>Not placed</td>\n",
              "    </tr>\n",
              "    <tr>\n",
              "      <th>4</th>\n",
              "      <td>5</td>\n",
              "      <td>M</td>\n",
              "      <td>A</td>\n",
              "      <td>80.474569</td>\n",
              "      <td>65.5</td>\n",
              "      <td>42.52</td>\n",
              "      <td>17</td>\n",
              "      <td>yes</td>\n",
              "      <td>Not placed</td>\n",
              "    </tr>\n",
              "  </tbody>\n",
              "</table>\n",
              "</div>"
            ],
            "text/plain": [
              "   Roll No Gender Section  SSC Percentage  inter_Diploma_percentage  \\\n",
              "0        1      M       A       87.300000                      65.3   \n",
              "1        2      F       A       89.000000                      92.4   \n",
              "2        3      F       A       67.000000                      68.0   \n",
              "3        4      M       A       71.000000                      70.4   \n",
              "4        5      M       A       80.474569                      65.5   \n",
              "\n",
              "   B.Tech_percentage  Backlogs registered_for_ Placement_Training  \\\n",
              "0              40.00        18                                 NO   \n",
              "1              71.45         0                                yes   \n",
              "2              45.26        13                                yes   \n",
              "3              36.47        17                                yes   \n",
              "4              42.52        17                                yes   \n",
              "\n",
              "  placement status  \n",
              "0       Not placed  \n",
              "1           Placed  \n",
              "2       Not placed  \n",
              "3       Not placed  \n",
              "4       Not placed  "
            ]
          },
          "metadata": {
            "tags": []
          },
          "execution_count": 96
        }
      ]
    },
    {
      "cell_type": "markdown",
      "metadata": {
        "id": "XJML1sLmTCip"
      },
      "source": [
        "### 3.1.2) We replace missing values in \"registered_for_ Placement_Training\" with the most frequent value in \"registered_for_ Placement_Training\" column. "
      ]
    },
    {
      "cell_type": "code",
      "metadata": {
        "id": "JmdtUYKuTCip",
        "outputId": "e9927b78-259b-4c41-e2b0-869c3188ecf0"
      },
      "source": [
        "dataset[\"registered_for_ Placement_Training\"]=dataset[\"registered_for_ Placement_Training\"].replace(to_replace=np.nan,value=dataset[\"registered_for_ Placement_Training\"].mode()[0])  \n",
        "dataset.head()"
      ],
      "execution_count": null,
      "outputs": [
        {
          "output_type": "execute_result",
          "data": {
            "text/html": [
              "<div>\n",
              "<style scoped>\n",
              "    .dataframe tbody tr th:only-of-type {\n",
              "        vertical-align: middle;\n",
              "    }\n",
              "\n",
              "    .dataframe tbody tr th {\n",
              "        vertical-align: top;\n",
              "    }\n",
              "\n",
              "    .dataframe thead th {\n",
              "        text-align: right;\n",
              "    }\n",
              "</style>\n",
              "<table border=\"1\" class=\"dataframe\">\n",
              "  <thead>\n",
              "    <tr style=\"text-align: right;\">\n",
              "      <th></th>\n",
              "      <th>Roll No</th>\n",
              "      <th>Gender</th>\n",
              "      <th>Section</th>\n",
              "      <th>SSC Percentage</th>\n",
              "      <th>inter_Diploma_percentage</th>\n",
              "      <th>B.Tech_percentage</th>\n",
              "      <th>Backlogs</th>\n",
              "      <th>registered_for_ Placement_Training</th>\n",
              "      <th>placement status</th>\n",
              "    </tr>\n",
              "  </thead>\n",
              "  <tbody>\n",
              "    <tr>\n",
              "      <th>0</th>\n",
              "      <td>1</td>\n",
              "      <td>M</td>\n",
              "      <td>A</td>\n",
              "      <td>87.300000</td>\n",
              "      <td>65.3</td>\n",
              "      <td>40.00</td>\n",
              "      <td>18</td>\n",
              "      <td>NO</td>\n",
              "      <td>Not placed</td>\n",
              "    </tr>\n",
              "    <tr>\n",
              "      <th>1</th>\n",
              "      <td>2</td>\n",
              "      <td>F</td>\n",
              "      <td>A</td>\n",
              "      <td>89.000000</td>\n",
              "      <td>92.4</td>\n",
              "      <td>71.45</td>\n",
              "      <td>0</td>\n",
              "      <td>yes</td>\n",
              "      <td>Placed</td>\n",
              "    </tr>\n",
              "    <tr>\n",
              "      <th>2</th>\n",
              "      <td>3</td>\n",
              "      <td>F</td>\n",
              "      <td>A</td>\n",
              "      <td>67.000000</td>\n",
              "      <td>68.0</td>\n",
              "      <td>45.26</td>\n",
              "      <td>13</td>\n",
              "      <td>yes</td>\n",
              "      <td>Not placed</td>\n",
              "    </tr>\n",
              "    <tr>\n",
              "      <th>3</th>\n",
              "      <td>4</td>\n",
              "      <td>M</td>\n",
              "      <td>A</td>\n",
              "      <td>71.000000</td>\n",
              "      <td>70.4</td>\n",
              "      <td>36.47</td>\n",
              "      <td>17</td>\n",
              "      <td>yes</td>\n",
              "      <td>Not placed</td>\n",
              "    </tr>\n",
              "    <tr>\n",
              "      <th>4</th>\n",
              "      <td>5</td>\n",
              "      <td>M</td>\n",
              "      <td>A</td>\n",
              "      <td>80.474569</td>\n",
              "      <td>65.5</td>\n",
              "      <td>42.52</td>\n",
              "      <td>17</td>\n",
              "      <td>yes</td>\n",
              "      <td>Not placed</td>\n",
              "    </tr>\n",
              "  </tbody>\n",
              "</table>\n",
              "</div>"
            ],
            "text/plain": [
              "   Roll No Gender Section  SSC Percentage  inter_Diploma_percentage  \\\n",
              "0        1      M       A       87.300000                      65.3   \n",
              "1        2      F       A       89.000000                      92.4   \n",
              "2        3      F       A       67.000000                      68.0   \n",
              "3        4      M       A       71.000000                      70.4   \n",
              "4        5      M       A       80.474569                      65.5   \n",
              "\n",
              "   B.Tech_percentage  Backlogs registered_for_ Placement_Training  \\\n",
              "0              40.00        18                                 NO   \n",
              "1              71.45         0                                yes   \n",
              "2              45.26        13                                yes   \n",
              "3              36.47        17                                yes   \n",
              "4              42.52        17                                yes   \n",
              "\n",
              "  placement status  \n",
              "0       Not placed  \n",
              "1           Placed  \n",
              "2       Not placed  \n",
              "3       Not placed  \n",
              "4       Not placed  "
            ]
          },
          "metadata": {
            "tags": []
          },
          "execution_count": 97
        }
      ]
    },
    {
      "cell_type": "markdown",
      "metadata": {
        "id": "2udt97fTTCiq"
      },
      "source": [
        "###  3.1.3) We check for missing values again and make sure that there are no missing values."
      ]
    },
    {
      "cell_type": "code",
      "metadata": {
        "id": "w_uNUEgXTCiq",
        "outputId": "6d974ec1-7d98-45fa-a244-e4b57c243c66"
      },
      "source": [
        "dataset.isna().any()"
      ],
      "execution_count": null,
      "outputs": [
        {
          "output_type": "execute_result",
          "data": {
            "text/plain": [
              "Roll No                               False\n",
              "Gender                                False\n",
              "Section                               False\n",
              "SSC Percentage                        False\n",
              "inter_Diploma_percentage              False\n",
              "B.Tech_percentage                     False\n",
              "Backlogs                              False\n",
              "registered_for_ Placement_Training    False\n",
              "placement status                      False\n",
              "dtype: bool"
            ]
          },
          "metadata": {
            "tags": []
          },
          "execution_count": 98
        }
      ]
    },
    {
      "cell_type": "markdown",
      "metadata": {
        "id": "-ldSjJHCTCiq"
      },
      "source": [
        "### 3.2) Convert the strings into numbers"
      ]
    },
    {
      "cell_type": "markdown",
      "metadata": {
        "id": "noyTjtw8TCiq"
      },
      "source": [
        "###  Most of the classification algorithms cannot handle string information. So, Its better to change the string into numbers"
      ]
    },
    {
      "cell_type": "code",
      "metadata": {
        "id": "_3Sr9s23TCir"
      },
      "source": [
        "dataset['Gender'] = dataset['Gender'].map({'M': 0, 'F': 1})\n",
        "dataset['Section']=dataset['Section'].map({'A':0,'B':1})\n",
        "dataset['registered_for_ Placement_Training']=dataset['registered_for_ Placement_Training'].map({'NO':0,'yes':1})"
      ],
      "execution_count": null,
      "outputs": []
    },
    {
      "cell_type": "markdown",
      "metadata": {
        "id": "_Ez-OeoMTCir"
      },
      "source": [
        "### Now have a look at our dataset again."
      ]
    },
    {
      "cell_type": "code",
      "metadata": {
        "id": "qo_DOyv_TCir",
        "outputId": "48481439-3b78-4f66-b984-96b46992f249"
      },
      "source": [
        "dataset.head()"
      ],
      "execution_count": null,
      "outputs": [
        {
          "output_type": "execute_result",
          "data": {
            "text/html": [
              "<div>\n",
              "<style scoped>\n",
              "    .dataframe tbody tr th:only-of-type {\n",
              "        vertical-align: middle;\n",
              "    }\n",
              "\n",
              "    .dataframe tbody tr th {\n",
              "        vertical-align: top;\n",
              "    }\n",
              "\n",
              "    .dataframe thead th {\n",
              "        text-align: right;\n",
              "    }\n",
              "</style>\n",
              "<table border=\"1\" class=\"dataframe\">\n",
              "  <thead>\n",
              "    <tr style=\"text-align: right;\">\n",
              "      <th></th>\n",
              "      <th>Roll No</th>\n",
              "      <th>Gender</th>\n",
              "      <th>Section</th>\n",
              "      <th>SSC Percentage</th>\n",
              "      <th>inter_Diploma_percentage</th>\n",
              "      <th>B.Tech_percentage</th>\n",
              "      <th>Backlogs</th>\n",
              "      <th>registered_for_ Placement_Training</th>\n",
              "      <th>placement status</th>\n",
              "    </tr>\n",
              "  </thead>\n",
              "  <tbody>\n",
              "    <tr>\n",
              "      <th>0</th>\n",
              "      <td>1</td>\n",
              "      <td>0</td>\n",
              "      <td>0</td>\n",
              "      <td>87.300000</td>\n",
              "      <td>65.3</td>\n",
              "      <td>40.00</td>\n",
              "      <td>18</td>\n",
              "      <td>0</td>\n",
              "      <td>Not placed</td>\n",
              "    </tr>\n",
              "    <tr>\n",
              "      <th>1</th>\n",
              "      <td>2</td>\n",
              "      <td>1</td>\n",
              "      <td>0</td>\n",
              "      <td>89.000000</td>\n",
              "      <td>92.4</td>\n",
              "      <td>71.45</td>\n",
              "      <td>0</td>\n",
              "      <td>1</td>\n",
              "      <td>Placed</td>\n",
              "    </tr>\n",
              "    <tr>\n",
              "      <th>2</th>\n",
              "      <td>3</td>\n",
              "      <td>1</td>\n",
              "      <td>0</td>\n",
              "      <td>67.000000</td>\n",
              "      <td>68.0</td>\n",
              "      <td>45.26</td>\n",
              "      <td>13</td>\n",
              "      <td>1</td>\n",
              "      <td>Not placed</td>\n",
              "    </tr>\n",
              "    <tr>\n",
              "      <th>3</th>\n",
              "      <td>4</td>\n",
              "      <td>0</td>\n",
              "      <td>0</td>\n",
              "      <td>71.000000</td>\n",
              "      <td>70.4</td>\n",
              "      <td>36.47</td>\n",
              "      <td>17</td>\n",
              "      <td>1</td>\n",
              "      <td>Not placed</td>\n",
              "    </tr>\n",
              "    <tr>\n",
              "      <th>4</th>\n",
              "      <td>5</td>\n",
              "      <td>0</td>\n",
              "      <td>0</td>\n",
              "      <td>80.474569</td>\n",
              "      <td>65.5</td>\n",
              "      <td>42.52</td>\n",
              "      <td>17</td>\n",
              "      <td>1</td>\n",
              "      <td>Not placed</td>\n",
              "    </tr>\n",
              "  </tbody>\n",
              "</table>\n",
              "</div>"
            ],
            "text/plain": [
              "   Roll No  Gender  Section  SSC Percentage  inter_Diploma_percentage  \\\n",
              "0        1       0        0       87.300000                      65.3   \n",
              "1        2       1        0       89.000000                      92.4   \n",
              "2        3       1        0       67.000000                      68.0   \n",
              "3        4       0        0       71.000000                      70.4   \n",
              "4        5       0        0       80.474569                      65.5   \n",
              "\n",
              "   B.Tech_percentage  Backlogs  registered_for_ Placement_Training  \\\n",
              "0              40.00        18                                   0   \n",
              "1              71.45         0                                   1   \n",
              "2              45.26        13                                   1   \n",
              "3              36.47        17                                   1   \n",
              "4              42.52        17                                   1   \n",
              "\n",
              "  placement status  \n",
              "0       Not placed  \n",
              "1           Placed  \n",
              "2       Not placed  \n",
              "3       Not placed  \n",
              "4       Not placed  "
            ]
          },
          "metadata": {
            "tags": []
          },
          "execution_count": 100
        }
      ]
    },
    {
      "cell_type": "markdown",
      "metadata": {
        "id": "ioG0GtIoTCir"
      },
      "source": [
        "## 4) Divide the data into features and labels.\n",
        "We are considering __\"Gender\",\"Section\",\"SSC  Percentage\",\"inter_Diploma_percentage\",\"B.Tech_percentage\",\"Backlogs\", \"registered_for_ Placement_Training\"__ as our features and __\"placement status\"__ as our label."
      ]
    },
    {
      "cell_type": "code",
      "metadata": {
        "id": "wUeXlp7eTCir"
      },
      "source": [
        "# features\n",
        "X=dataset[[\"Gender\",\"Section\",\"SSC Percentage\",\"inter_Diploma_percentage\",\"B.Tech_percentage\",\"Backlogs\",\"registered_for_ Placement_Training\"]].values"
      ],
      "execution_count": null,
      "outputs": []
    },
    {
      "cell_type": "code",
      "metadata": {
        "id": "49UiZafETCis"
      },
      "source": [
        "# Labels\n",
        "y=dataset[\"placement status\"]"
      ],
      "execution_count": null,
      "outputs": []
    },
    {
      "cell_type": "markdown",
      "metadata": {
        "id": "z1lOZ0g8TCis"
      },
      "source": [
        "## 5) Now split the data in training data and test data.\n",
        "Note:training data is used to built the model and test data is used to evaluate the model."
      ]
    },
    {
      "cell_type": "code",
      "metadata": {
        "id": "jz32BtxsTCis"
      },
      "source": [
        "X_train, X_test, y_train, y_test = train_test_split(X, y, test_size=0.2, random_state=10)"
      ],
      "execution_count": null,
      "outputs": []
    },
    {
      "cell_type": "markdown",
      "metadata": {
        "id": "GtH-R-4ETCis"
      },
      "source": [
        "# Now, Let's apply different models"
      ]
    },
    {
      "cell_type": "markdown",
      "metadata": {
        "id": "C6wzXWlwTCis"
      },
      "source": [
        "#  <span style=\"color:red\"> <center> 1) Random forest </centre> </span>"
      ]
    },
    {
      "cell_type": "code",
      "metadata": {
        "id": "powTy80KTCit"
      },
      "source": [
        "# Create Decision Tree classifer object. Note: We will build 100 weak classifier- Decision trees\n",
        "rf_model=RandomForestClassifier(n_estimators=100) "
      ],
      "execution_count": null,
      "outputs": []
    },
    {
      "cell_type": "code",
      "metadata": {
        "id": "NS4jewbRTCit",
        "outputId": "c856f0c7-2320-4753-c377-c6f4ef63f479"
      },
      "source": [
        "rf_model.fit(X_train,y_train) # Build the model using training data"
      ],
      "execution_count": null,
      "outputs": [
        {
          "output_type": "execute_result",
          "data": {
            "text/plain": [
              "RandomForestClassifier()"
            ]
          },
          "metadata": {
            "tags": []
          },
          "execution_count": 114
        }
      ]
    },
    {
      "cell_type": "code",
      "metadata": {
        "id": "BNBl5SPtTCit"
      },
      "source": [
        "y_pred_rf=rf_model.predict(X_test) # Apply the model on test data."
      ],
      "execution_count": null,
      "outputs": []
    },
    {
      "cell_type": "markdown",
      "metadata": {
        "id": "m8_1htCQTCit"
      },
      "source": [
        "### Draw the confusion matrix of Random forest"
      ]
    },
    {
      "cell_type": "code",
      "metadata": {
        "id": "BPilO0tsTCit",
        "outputId": "ee3ae4d2-9a7d-4f74-ea90-254171b4196f"
      },
      "source": [
        "from sklearn.metrics import confusion_matrix\n",
        "\n",
        "pd.DataFrame(\n",
        "    confusion_matrix(y_test, y_pred_rf),\n",
        "    columns=['Not placed Predicted', 'placed predicted'],\n",
        "    index=['Not placed', 'placed']\n",
        ")"
      ],
      "execution_count": null,
      "outputs": [
        {
          "output_type": "execute_result",
          "data": {
            "text/html": [
              "<div>\n",
              "<style scoped>\n",
              "    .dataframe tbody tr th:only-of-type {\n",
              "        vertical-align: middle;\n",
              "    }\n",
              "\n",
              "    .dataframe tbody tr th {\n",
              "        vertical-align: top;\n",
              "    }\n",
              "\n",
              "    .dataframe thead th {\n",
              "        text-align: right;\n",
              "    }\n",
              "</style>\n",
              "<table border=\"1\" class=\"dataframe\">\n",
              "  <thead>\n",
              "    <tr style=\"text-align: right;\">\n",
              "      <th></th>\n",
              "      <th>Not placed Predicted</th>\n",
              "      <th>placed predicted</th>\n",
              "    </tr>\n",
              "  </thead>\n",
              "  <tbody>\n",
              "    <tr>\n",
              "      <th>Not placed</th>\n",
              "      <td>12</td>\n",
              "      <td>2</td>\n",
              "    </tr>\n",
              "    <tr>\n",
              "      <th>placed</th>\n",
              "      <td>3</td>\n",
              "      <td>7</td>\n",
              "    </tr>\n",
              "  </tbody>\n",
              "</table>\n",
              "</div>"
            ],
            "text/plain": [
              "            Not placed Predicted  placed predicted\n",
              "Not placed                    12                 2\n",
              "placed                         3                 7"
            ]
          },
          "metadata": {
            "tags": []
          },
          "execution_count": 117
        }
      ]
    },
    {
      "cell_type": "code",
      "metadata": {
        "id": "Ewx3YWFMTCiu",
        "outputId": "60efbcbf-c1eb-42c5-e682-16ba32593942"
      },
      "source": [
        "print(\"Accuracy:\",metrics.accuracy_score(y_test, y_pred_rm))"
      ],
      "execution_count": null,
      "outputs": [
        {
          "output_type": "stream",
          "text": [
            "Accuracy: 0.8333333333333334\n"
          ],
          "name": "stdout"
        }
      ]
    },
    {
      "cell_type": "markdown",
      "metadata": {
        "id": "owSNmcT-TCiu"
      },
      "source": [
        "#  <span style=\"color:red\"> <center> 2) Decision tree </centre> </span>"
      ]
    },
    {
      "cell_type": "code",
      "metadata": {
        "id": "B9WG6-MtTCiu"
      },
      "source": [
        "model_DT = DecisionTreeClassifier() # Create Decision Tree classifer object\n",
        "model_DT = model_DT.fit(X_train,y_train) # Build the model using training data\n",
        "y_pred_DT = model_DT.predict(X_test) # Apply the model on test data."
      ],
      "execution_count": null,
      "outputs": []
    },
    {
      "cell_type": "markdown",
      "metadata": {
        "id": "m1tPkdnYTCiu"
      },
      "source": [
        "### Draw the confusion matrix of Decision tree"
      ]
    },
    {
      "cell_type": "code",
      "metadata": {
        "id": "iiiqpDcxTCiu",
        "outputId": "b28a0aeb-7eeb-4a2a-ae65-485f84223950"
      },
      "source": [
        "from sklearn.metrics import confusion_matrix\n",
        "\n",
        "pd.DataFrame(\n",
        "    confusion_matrix(y_test, y_pred_DT),\n",
        "    columns=['Not placed Predicted', 'placed predicted'],\n",
        "    index=['Not placed', 'placed']\n",
        ")"
      ],
      "execution_count": null,
      "outputs": [
        {
          "output_type": "execute_result",
          "data": {
            "text/html": [
              "<div>\n",
              "<style scoped>\n",
              "    .dataframe tbody tr th:only-of-type {\n",
              "        vertical-align: middle;\n",
              "    }\n",
              "\n",
              "    .dataframe tbody tr th {\n",
              "        vertical-align: top;\n",
              "    }\n",
              "\n",
              "    .dataframe thead th {\n",
              "        text-align: right;\n",
              "    }\n",
              "</style>\n",
              "<table border=\"1\" class=\"dataframe\">\n",
              "  <thead>\n",
              "    <tr style=\"text-align: right;\">\n",
              "      <th></th>\n",
              "      <th>Not placed Predicted</th>\n",
              "      <th>placed predicted</th>\n",
              "    </tr>\n",
              "  </thead>\n",
              "  <tbody>\n",
              "    <tr>\n",
              "      <th>Not placed</th>\n",
              "      <td>10</td>\n",
              "      <td>4</td>\n",
              "    </tr>\n",
              "    <tr>\n",
              "      <th>placed</th>\n",
              "      <td>4</td>\n",
              "      <td>6</td>\n",
              "    </tr>\n",
              "  </tbody>\n",
              "</table>\n",
              "</div>"
            ],
            "text/plain": [
              "            Not placed Predicted  placed predicted\n",
              "Not placed                    10                 4\n",
              "placed                         4                 6"
            ]
          },
          "metadata": {
            "tags": []
          },
          "execution_count": 119
        }
      ]
    },
    {
      "cell_type": "code",
      "metadata": {
        "id": "gNqI0I6ZTCiu",
        "outputId": "2fc952cc-50c6-4d93-da22-1b857c98df2f"
      },
      "source": [
        "print(\"Accuracy:\",metrics.accuracy_score(y_test, y_pred_DT))"
      ],
      "execution_count": null,
      "outputs": [
        {
          "output_type": "stream",
          "text": [
            "Accuracy: 0.6666666666666666\n"
          ],
          "name": "stdout"
        }
      ]
    },
    {
      "cell_type": "markdown",
      "metadata": {
        "id": "a8vy2Yf4TCiv"
      },
      "source": [
        "# Random forest is performing better than Decision tree"
      ]
    },
    {
      "cell_type": "markdown",
      "metadata": {
        "id": "LXUYG4ECTCiv"
      },
      "source": [
        "#  <span style=\"color:red\"> <center> 3) AdaBoost </centre> </span>"
      ]
    },
    {
      "cell_type": "code",
      "metadata": {
        "id": "BqD6P3usTCiv"
      },
      "source": [
        "ada_model = AdaBoostClassifier(n_estimators=50) # Note: We are building 50 weak classifiers."
      ],
      "execution_count": null,
      "outputs": []
    },
    {
      "cell_type": "code",
      "metadata": {
        "id": "jqbAVXEXTCiv",
        "outputId": "02b5820a-a0f8-4844-cdc3-0dbd96a18bd0"
      },
      "source": [
        "ada_model.fit(X_train,y_train) # Build the model using training data"
      ],
      "execution_count": null,
      "outputs": [
        {
          "output_type": "execute_result",
          "data": {
            "text/plain": [
              "AdaBoostClassifier()"
            ]
          },
          "metadata": {
            "tags": []
          },
          "execution_count": 87
        }
      ]
    },
    {
      "cell_type": "code",
      "metadata": {
        "id": "usSB0QD3TCiv"
      },
      "source": [
        "y_pred_ada=ada_model.predict(X_test) # Apply the model on test data."
      ],
      "execution_count": null,
      "outputs": []
    },
    {
      "cell_type": "markdown",
      "metadata": {
        "id": "sP4gscLLTCiw"
      },
      "source": [
        "### Draw the confusion matrix of Adaboost"
      ]
    },
    {
      "cell_type": "code",
      "metadata": {
        "id": "o5XJFdBnTCiw",
        "outputId": "7c99c9aa-fc12-466e-baf6-4f2484f122e2"
      },
      "source": [
        "from sklearn.metrics import confusion_matrix\n",
        "\n",
        "pd.DataFrame(\n",
        "    confusion_matrix(y_test, y_pred_ada),\n",
        "    columns=['Not placed Predicted', 'placed predicted'],\n",
        "    index=['Not placed', 'placed']\n",
        ")"
      ],
      "execution_count": null,
      "outputs": [
        {
          "output_type": "execute_result",
          "data": {
            "text/html": [
              "<div>\n",
              "<style scoped>\n",
              "    .dataframe tbody tr th:only-of-type {\n",
              "        vertical-align: middle;\n",
              "    }\n",
              "\n",
              "    .dataframe tbody tr th {\n",
              "        vertical-align: top;\n",
              "    }\n",
              "\n",
              "    .dataframe thead th {\n",
              "        text-align: right;\n",
              "    }\n",
              "</style>\n",
              "<table border=\"1\" class=\"dataframe\">\n",
              "  <thead>\n",
              "    <tr style=\"text-align: right;\">\n",
              "      <th></th>\n",
              "      <th>Not placed Predicted</th>\n",
              "      <th>placed predicted</th>\n",
              "    </tr>\n",
              "  </thead>\n",
              "  <tbody>\n",
              "    <tr>\n",
              "      <th>Not placed</th>\n",
              "      <td>12</td>\n",
              "      <td>2</td>\n",
              "    </tr>\n",
              "    <tr>\n",
              "      <th>placed</th>\n",
              "      <td>3</td>\n",
              "      <td>7</td>\n",
              "    </tr>\n",
              "  </tbody>\n",
              "</table>\n",
              "</div>"
            ],
            "text/plain": [
              "            Not placed Predicted  placed predicted\n",
              "Not placed                    12                 2\n",
              "placed                         3                 7"
            ]
          },
          "metadata": {
            "tags": []
          },
          "execution_count": 122
        }
      ]
    },
    {
      "cell_type": "code",
      "metadata": {
        "id": "2JBuWkQiTCiw",
        "outputId": "0c35417e-6728-4ea4-b19b-a27d944d3a76"
      },
      "source": [
        "print(\"Accuracy:\",metrics.accuracy_score(y_test, y_pred_ada))"
      ],
      "execution_count": null,
      "outputs": [
        {
          "output_type": "stream",
          "text": [
            "Accuracy: 0.7916666666666666\n"
          ],
          "name": "stdout"
        }
      ]
    },
    {
      "cell_type": "markdown",
      "metadata": {
        "id": "KLOaxaH3TCiw"
      },
      "source": [
        "# Adaboost is performing better than Decision trees"
      ]
    },
    {
      "cell_type": "code",
      "metadata": {
        "id": "29XTJFQgTCiw"
      },
      "source": [
        ""
      ],
      "execution_count": null,
      "outputs": []
    }
  ]
}