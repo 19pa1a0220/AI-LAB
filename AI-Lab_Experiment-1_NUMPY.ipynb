{
  "nbformat": 4,
  "nbformat_minor": 0,
  "metadata": {
    "colab": {
      "name": "Artificial Intelligence Tools, Techniques and Applications Lab Experiments",
      "provenance": [],
      "collapsed_sections": [],
      "authorship_tag": "ABX9TyOwVE0KDtIe1LUivt6YyC5Q",
      "include_colab_link": true
    },
    "kernelspec": {
      "name": "python3",
      "display_name": "Python 3"
    }
  },
  "cells": [
    {
      "cell_type": "markdown",
      "metadata": {
        "id": "view-in-github",
        "colab_type": "text"
      },
      "source": [
        "<a href=\"https://colab.research.google.com/github/19pa1a0220/AI-LAB/blob/master/AI-Lab_Experiment-1_NUMPY.ipynb\" target=\"_parent\"><img src=\"https://colab.research.google.com/assets/colab-badge.svg\" alt=\"Open In Colab\"/></a>"
      ]
    },
    {
      "cell_type": "markdown",
      "metadata": {
        "id": "JygsUgwvb-_M",
        "colab_type": "text"
      },
      "source": [
        "# EXPERIMENT-1_NUMPY\n"
      ]
    },
    {
      "cell_type": "markdown",
      "metadata": {
        "id": "HsKRxhWPcO-m",
        "colab_type": "text"
      },
      "source": [
        "##i) Different ways to create NumPy arrays"
      ]
    },
    {
      "cell_type": "code",
      "metadata": {
        "id": "7brIJhfBcUnx",
        "colab_type": "code",
        "colab": {
          "base_uri": "https://localhost:8080/",
          "height": 34
        },
        "outputId": "898c881b-1a9a-44b1-b877-460df131226a"
      },
      "source": [
        "#1-d array\n",
        "import numpy as np\n",
        "a = np.array([1,4,3])\n",
        "print (a)"
      ],
      "execution_count": null,
      "outputs": [
        {
          "output_type": "stream",
          "text": [
            "[1 4 3]\n"
          ],
          "name": "stdout"
        }
      ]
    },
    {
      "cell_type": "code",
      "metadata": {
        "id": "YvrPu3C1eLEM",
        "colab_type": "code",
        "colab": {
          "base_uri": "https://localhost:8080/",
          "height": 51
        },
        "outputId": "471d6d95-62c8-468b-de59-dbc5214410f7"
      },
      "source": [
        "#2-d array\n",
        "a = np.array([[1, 2], [3, 4]])\n",
        "print (a)"
      ],
      "execution_count": null,
      "outputs": [
        {
          "output_type": "stream",
          "text": [
            "[[1 2]\n",
            " [3 4]]\n"
          ],
          "name": "stdout"
        }
      ]
    },
    {
      "cell_type": "markdown",
      "metadata": {
        "id": "KzOC0X_3fExp",
        "colab_type": "text"
      },
      "source": [
        "##ii) Add, remove, modify elements in an array"
      ]
    },
    {
      "cell_type": "markdown",
      "metadata": {
        "id": "EOpyaP21fRv_",
        "colab_type": "text"
      },
      "source": [
        "###1-numpy.arange"
      ]
    },
    {
      "cell_type": "code",
      "metadata": {
        "id": "pB6vE0a0fcV0",
        "colab_type": "code",
        "colab": {
          "base_uri": "https://localhost:8080/",
          "height": 34
        },
        "outputId": "5b373c00-ea3d-4bd1-9e65-7522c92e48d0"
      },
      "source": [
        "import numpy as np\n",
        "np.arange( 10, 50, 5 )"
      ],
      "execution_count": null,
      "outputs": [
        {
          "output_type": "execute_result",
          "data": {
            "text/plain": [
              "array([10, 15, 20, 25, 30, 35, 40, 45])"
            ]
          },
          "metadata": {
            "tags": []
          },
          "execution_count": 15
        }
      ]
    },
    {
      "cell_type": "code",
      "metadata": {
        "id": "8abwvNJugu0L",
        "colab_type": "code",
        "colab": {
          "base_uri": "https://localhost:8080/",
          "height": 51
        },
        "outputId": "14efe85e-7354-420a-d6b2-d0722aee534f"
      },
      "source": [
        "a = np.arange(20)\n",
        "a"
      ],
      "execution_count": null,
      "outputs": [
        {
          "output_type": "execute_result",
          "data": {
            "text/plain": [
              "array([ 0,  1,  2,  3,  4,  5,  6,  7,  8,  9, 10, 11, 12, 13, 14, 15, 16,\n",
              "       17, 18, 19])"
            ]
          },
          "metadata": {
            "tags": []
          },
          "execution_count": 20
        }
      ]
    },
    {
      "cell_type": "markdown",
      "metadata": {
        "id": "_gXhT8VxhOl5",
        "colab_type": "text"
      },
      "source": [
        "###2-numpy.reshape"
      ]
    },
    {
      "cell_type": "code",
      "metadata": {
        "id": "SzBmGPlChXG6",
        "colab_type": "code",
        "colab": {
          "base_uri": "https://localhost:8080/",
          "height": 85
        },
        "outputId": "9d566390-69bf-4d0e-a192-1db49f06f72d"
      },
      "source": [
        "a = np.arange(20).reshape(4, 5)\n",
        "a"
      ],
      "execution_count": null,
      "outputs": [
        {
          "output_type": "execute_result",
          "data": {
            "text/plain": [
              "array([[ 0,  1,  2,  3,  4],\n",
              "       [ 5,  6,  7,  8,  9],\n",
              "       [10, 11, 12, 13, 14],\n",
              "       [15, 16, 17, 18, 19]])"
            ]
          },
          "metadata": {
            "tags": []
          },
          "execution_count": 21
        }
      ]
    },
    {
      "cell_type": "markdown",
      "metadata": {
        "id": "x-5UljgVhor-",
        "colab_type": "text"
      },
      "source": [
        "###3-ndarray.shape"
      ]
    },
    {
      "cell_type": "code",
      "metadata": {
        "id": "Ju54CgDHhv-C",
        "colab_type": "code",
        "colab": {
          "base_uri": "https://localhost:8080/",
          "height": 34
        },
        "outputId": "0ace6a49-8656-41ad-cfed-3dd100cf8c0d"
      },
      "source": [
        "a.shape"
      ],
      "execution_count": null,
      "outputs": [
        {
          "output_type": "execute_result",
          "data": {
            "text/plain": [
              "(4, 5)"
            ]
          },
          "metadata": {
            "tags": []
          },
          "execution_count": 22
        }
      ]
    },
    {
      "cell_type": "markdown",
      "metadata": {
        "id": "GSBHOmYph1N1",
        "colab_type": "text"
      },
      "source": [
        "###4-ndarray.ndim"
      ]
    },
    {
      "cell_type": "code",
      "metadata": {
        "id": "w7FMHx7Rh6IW",
        "colab_type": "code",
        "colab": {
          "base_uri": "https://localhost:8080/",
          "height": 34
        },
        "outputId": "a8160db7-12f7-453e-81d2-7d61f02ab2f4"
      },
      "source": [
        "a.ndim"
      ],
      "execution_count": null,
      "outputs": [
        {
          "output_type": "execute_result",
          "data": {
            "text/plain": [
              "2"
            ]
          },
          "metadata": {
            "tags": []
          },
          "execution_count": 23
        }
      ]
    },
    {
      "cell_type": "markdown",
      "metadata": {
        "id": "hor1JlFBiCZG",
        "colab_type": "text"
      },
      "source": [
        "###5-ndarray.dtype"
      ]
    },
    {
      "cell_type": "code",
      "metadata": {
        "id": "cbJhSyVZiSod",
        "colab_type": "code",
        "colab": {
          "base_uri": "https://localhost:8080/",
          "height": 34
        },
        "outputId": "56582bd1-f495-4969-dad2-7bf6c9882454"
      },
      "source": [
        "a.dtype"
      ],
      "execution_count": null,
      "outputs": [
        {
          "output_type": "execute_result",
          "data": {
            "text/plain": [
              "dtype('int64')"
            ]
          },
          "metadata": {
            "tags": []
          },
          "execution_count": 24
        }
      ]
    },
    {
      "cell_type": "markdown",
      "metadata": {
        "id": "5TayT2FBiWUO",
        "colab_type": "text"
      },
      "source": [
        "###6-ndarray.itemsize"
      ]
    },
    {
      "cell_type": "code",
      "metadata": {
        "id": "hWLYvMj0ictD",
        "colab_type": "code",
        "colab": {
          "base_uri": "https://localhost:8080/",
          "height": 34
        },
        "outputId": "1e89de7f-4657-492b-c6fe-81d5c2b69789"
      },
      "source": [
        "a.size"
      ],
      "execution_count": null,
      "outputs": [
        {
          "output_type": "execute_result",
          "data": {
            "text/plain": [
              "20"
            ]
          },
          "metadata": {
            "tags": []
          },
          "execution_count": 25
        }
      ]
    },
    {
      "cell_type": "markdown",
      "metadata": {
        "id": "guAROPg4ihtH",
        "colab_type": "text"
      },
      "source": [
        "###7-type(ndarray)"
      ]
    },
    {
      "cell_type": "code",
      "metadata": {
        "id": "uw1MxJk4ip88",
        "colab_type": "code",
        "colab": {
          "base_uri": "https://localhost:8080/",
          "height": 34
        },
        "outputId": "8dd293da-965b-45f7-9273-dea6e676d079"
      },
      "source": [
        "type(a)"
      ],
      "execution_count": null,
      "outputs": [
        {
          "output_type": "execute_result",
          "data": {
            "text/plain": [
              "numpy.ndarray"
            ]
          },
          "metadata": {
            "tags": []
          },
          "execution_count": 26
        }
      ]
    },
    {
      "cell_type": "markdown",
      "metadata": {
        "id": "javyXytyjkRg",
        "colab_type": "text"
      },
      "source": [
        "###8-numpy.zeros , numpy.ones , numpy.empty, numpy.eye, numpy.full and numpy.random."
      ]
    },
    {
      "cell_type": "code",
      "metadata": {
        "id": "EiCuaFQijpOv",
        "colab_type": "code",
        "colab": {
          "base_uri": "https://localhost:8080/",
          "height": 68
        },
        "outputId": "9b3768a0-cb9b-4c18-d04d-fffdf7547890"
      },
      "source": [
        "np.zeros( (3,4) ) # creates an arrays of all zero"
      ],
      "execution_count": null,
      "outputs": [
        {
          "output_type": "execute_result",
          "data": {
            "text/plain": [
              "array([[0., 0., 0., 0.],\n",
              "       [0., 0., 0., 0.],\n",
              "       [0., 0., 0., 0.]])"
            ]
          },
          "metadata": {
            "tags": []
          },
          "execution_count": 27
        }
      ]
    },
    {
      "cell_type": "code",
      "metadata": {
        "id": "CsxpQBgAkU55",
        "colab_type": "code",
        "colab": {
          "base_uri": "https://localhost:8080/",
          "height": 51
        },
        "outputId": "c40ca671-50d0-42e5-d5e1-b33ecc6c118b"
      },
      "source": [
        "np.ones( (2,3), dtype=np.int16 ) #  creates an array of all ones. dtype can also be specified"
      ],
      "execution_count": null,
      "outputs": [
        {
          "output_type": "execute_result",
          "data": {
            "text/plain": [
              "array([[1, 1, 1],\n",
              "       [1, 1, 1]], dtype=int16)"
            ]
          },
          "metadata": {
            "tags": []
          },
          "execution_count": 28
        }
      ]
    },
    {
      "cell_type": "code",
      "metadata": {
        "id": "bdCPyoEbkd03",
        "colab_type": "code",
        "colab": {
          "base_uri": "https://localhost:8080/",
          "height": 51
        },
        "outputId": "fac216ff-4570-4754-96c2-b7ec2785d784"
      },
      "source": [
        "np.empty( (2,3) )  # Creates an empty array. Note that the numbers are the elements at that location"
      ],
      "execution_count": null,
      "outputs": [
        {
          "output_type": "execute_result",
          "data": {
            "text/plain": [
              "array([[1.58400055e-316, 0.00000000e+000, 0.00000000e+000],\n",
              "       [0.00000000e+000, 0.00000000e+000, 0.00000000e+000]])"
            ]
          },
          "metadata": {
            "tags": []
          },
          "execution_count": 29
        }
      ]
    },
    {
      "cell_type": "code",
      "metadata": {
        "id": "VHDc1FNRkhLI",
        "colab_type": "code",
        "colab": {
          "base_uri": "https://localhost:8080/",
          "height": 68
        },
        "outputId": "421a099f-8138-4525-8d40-4eccee1718d5"
      },
      "source": [
        "np.eye(3) # Creates identity matrix"
      ],
      "execution_count": null,
      "outputs": [
        {
          "output_type": "execute_result",
          "data": {
            "text/plain": [
              "array([[1., 0., 0.],\n",
              "       [0., 1., 0.],\n",
              "       [0., 0., 1.]])"
            ]
          },
          "metadata": {
            "tags": []
          },
          "execution_count": 30
        }
      ]
    },
    {
      "cell_type": "code",
      "metadata": {
        "id": "iQ9LUoXrkjAU",
        "colab_type": "code",
        "colab": {
          "base_uri": "https://localhost:8080/",
          "height": 51
        },
        "outputId": "6faeec07-2d7e-4c42-862e-d4ba07e960fc"
      },
      "source": [
        "np.full((2,2),7) # Creates a matrix with the specified elements"
      ],
      "execution_count": null,
      "outputs": [
        {
          "output_type": "execute_result",
          "data": {
            "text/plain": [
              "array([[7, 7],\n",
              "       [7, 7]])"
            ]
          },
          "metadata": {
            "tags": []
          },
          "execution_count": 31
        }
      ]
    },
    {
      "cell_type": "code",
      "metadata": {
        "id": "-KO49bofkoaZ",
        "colab_type": "code",
        "colab": {
          "base_uri": "https://localhost:8080/",
          "height": 51
        },
        "outputId": "0adb70e2-21c6-4a8b-c1d0-03f0fa4ca063"
      },
      "source": [
        "a = np.random.random((2,3)) # Creates a matrix with some random numbers\n",
        "a"
      ],
      "execution_count": null,
      "outputs": [
        {
          "output_type": "execute_result",
          "data": {
            "text/plain": [
              "array([[0.22057716, 0.97499101, 0.32754134],\n",
              "       [0.73182714, 0.48855619, 0.10659982]])"
            ]
          },
          "metadata": {
            "tags": []
          },
          "execution_count": 32
        }
      ]
    },
    {
      "cell_type": "markdown",
      "metadata": {
        "id": "lBOJ8ZeIlGIh",
        "colab_type": "text"
      },
      "source": [
        "##iii) Arithmetic operations on NumPy array"
      ]
    },
    {
      "cell_type": "markdown",
      "metadata": {
        "id": "duuPyY_alWOd",
        "colab_type": "text"
      },
      "source": [
        "###1-Arithmetic operators on arrays apply elementwise. A new array is created and filled with the result"
      ]
    },
    {
      "cell_type": "code",
      "metadata": {
        "id": "2QvZRUpOmGA_",
        "colab_type": "code",
        "colab": {
          "base_uri": "https://localhost:8080/",
          "height": 136
        },
        "outputId": "02bf378c-7e9b-425e-ef49-4d7c359d9354"
      },
      "source": [
        "a = np.array( [20,30,40,50] )\n",
        "b = np.arange( 4 )\n",
        "print(a)\n",
        "print(b)\n",
        "c = a-b\n",
        "print(c)\n",
        "print(b**2)\n",
        "print(10*np.sin(a))\n",
        "print(a<35)\n",
        "a[0] +=10\n",
        "print(a)"
      ],
      "execution_count": null,
      "outputs": [
        {
          "output_type": "stream",
          "text": [
            "[20 30 40 50]\n",
            "[0 1 2 3]\n",
            "[20 29 38 47]\n",
            "[0 1 4 9]\n",
            "[ 9.12945251 -9.88031624  7.4511316  -2.62374854]\n",
            "[ True  True False False]\n",
            "[30 30 40 50]\n"
          ],
          "name": "stdout"
        }
      ]
    },
    {
      "cell_type": "markdown",
      "metadata": {
        "id": "I1wc_Akamxd4",
        "colab_type": "text"
      },
      "source": [
        "###2-Dot method"
      ]
    },
    {
      "cell_type": "code",
      "metadata": {
        "id": "vB5niUyfm19V",
        "colab_type": "code",
        "colab": {
          "base_uri": "https://localhost:8080/",
          "height": 221
        },
        "outputId": "2c8dba92-de50-4db4-e902-9632c6b9b3dd"
      },
      "source": [
        "import numpy as np\n",
        "A = np.array( [[1,2],[0,1]] )\n",
        "B = np.array( [[2,0],[4,4]] )\n",
        "\n",
        "print(A)\n",
        "print(B)\n",
        "\n",
        "print(A * B)  # elementwise product\n",
        "\n",
        "print(A @ B)  # matrix product\n",
        "\n",
        "print(A.dot(B)) # another matrix product\n",
        "\n",
        "print(np.dot(A,B)) # another matrix product"
      ],
      "execution_count": 12,
      "outputs": [
        {
          "output_type": "stream",
          "text": [
            "[[1 2]\n",
            " [0 1]]\n",
            "[[2 0]\n",
            " [4 4]]\n",
            "[[2 0]\n",
            " [0 4]]\n",
            "[[10  8]\n",
            " [ 4  4]]\n",
            "[[10  8]\n",
            " [ 4  4]]\n",
            "[[10  8]\n",
            " [ 4  4]]\n"
          ],
          "name": "stdout"
        }
      ]
    },
    {
      "cell_type": "markdown",
      "metadata": {
        "id": "mNw7pGX7niq5",
        "colab_type": "text"
      },
      "source": [
        "###3-Use of axis"
      ]
    },
    {
      "cell_type": "code",
      "metadata": {
        "id": "9TYIqMwOnmMT",
        "colab_type": "code",
        "colab": {
          "base_uri": "https://localhost:8080/",
          "height": 221
        },
        "outputId": "5fd3b8c0-ade4-4641-9db8-28564b0b9284"
      },
      "source": [
        "b=np.arange(20).reshape(4,5)\n",
        "print(b)\n",
        "print(b.sum())\n",
        "print(b.sum(axis=0))\n",
        "print(b.sum(axis=1))\n",
        "print(b.min(axis=1))\n",
        "print(b.cumsum(axis=1))"
      ],
      "execution_count": 13,
      "outputs": [
        {
          "output_type": "stream",
          "text": [
            "[[ 0  1  2  3  4]\n",
            " [ 5  6  7  8  9]\n",
            " [10 11 12 13 14]\n",
            " [15 16 17 18 19]]\n",
            "190\n",
            "[30 34 38 42 46]\n",
            "[10 35 60 85]\n",
            "[ 0  5 10 15]\n",
            "[[ 0  1  3  6 10]\n",
            " [ 5 11 18 26 35]\n",
            " [10 21 33 46 60]\n",
            " [15 31 48 66 85]]\n"
          ],
          "name": "stdout"
        }
      ]
    },
    {
      "cell_type": "markdown",
      "metadata": {
        "id": "VfI4QFbkoMPN",
        "colab_type": "text"
      },
      "source": [
        "###4-Basic mathematical functions"
      ]
    },
    {
      "cell_type": "code",
      "metadata": {
        "id": "ZotOe0btoSsD",
        "colab_type": "code",
        "colab": {
          "base_uri": "https://localhost:8080/",
          "height": 297
        },
        "outputId": "9e4961e1-0eaa-4fa4-d24c-33991395c6d2"
      },
      "source": [
        "a=np.arange(5)\n",
        "print(a)\n",
        "\n",
        "b=np.random.random(5)\n",
        "print(b)\n",
        "\n",
        "print(np.add(a,b))\n",
        "print(a + b)\n",
        "print(a - b)\n",
        "print(np.subtract(a, b))\n",
        "print(a * b)\n",
        "print(np.multiply(a, b))\n",
        "print(a/b)\n",
        "print(np.divide(a, b))"
      ],
      "execution_count": null,
      "outputs": [
        {
          "output_type": "stream",
          "text": [
            "[0 1 2 3 4]\n",
            "[0.26516418 0.19755032 0.25953732 0.15803012 0.87670288]\n",
            "[0.26516418 1.19755032 2.25953732 3.15803012 4.87670288]\n",
            "[0.26516418 1.19755032 2.25953732 3.15803012 4.87670288]\n",
            "[-0.26516418  0.80244968  1.74046268  2.84196988  3.12329712]\n",
            "[-0.26516418  0.80244968  1.74046268  2.84196988  3.12329712]\n",
            "[0.         0.19755032 0.51907464 0.47409037 3.5068115 ]\n",
            "[0.         0.19755032 0.51907464 0.47409037 3.5068115 ]\n",
            "[ 0.          5.06200144  7.7060209  18.98372246  4.56254919]\n",
            "[ 0.          5.06200144  7.7060209  18.98372246  4.56254919]\n"
          ],
          "name": "stdout"
        }
      ]
    },
    {
      "cell_type": "markdown",
      "metadata": {
        "id": "FVwXOZVcpvmT",
        "colab_type": "text"
      },
      "source": [
        "##iv) Slicing and iterating of NumPy arrays"
      ]
    },
    {
      "cell_type": "markdown",
      "metadata": {
        "id": "N13wA6UbqAmm",
        "colab_type": "text"
      },
      "source": [
        "###1-Slicing-access list of elements"
      ]
    },
    {
      "cell_type": "code",
      "metadata": {
        "id": "LFJ9L2Zsqc8Z",
        "colab_type": "code",
        "colab": {
          "base_uri": "https://localhost:8080/",
          "height": 85
        },
        "outputId": "63f8177c-873d-4e8c-a852-0e7d3849043d"
      },
      "source": [
        "#Slicing a 1-D array\n",
        "a=np.arange(10)**3\n",
        "print(a)\n",
        "print(a[2])\n",
        "print(a[2:4]) \n",
        "print(a[2:3])"
      ],
      "execution_count": null,
      "outputs": [
        {
          "output_type": "stream",
          "text": [
            "[  0   1   8  27  64 125 216 343 512 729]\n",
            "8\n",
            "[ 8 27]\n",
            "[8]\n"
          ],
          "name": "stdout"
        }
      ]
    },
    {
      "cell_type": "code",
      "metadata": {
        "id": "dhrIR68Yredz",
        "colab_type": "code",
        "colab": {
          "base_uri": "https://localhost:8080/",
          "height": 485
        },
        "outputId": "737f9c77-5173-4a04-9927-6298f7bf12d6"
      },
      "source": [
        "#Slicing a 2-D array\n",
        "a=np.arange(12).reshape(4,3)**2\n",
        "print(a)\n",
        "print(a[1:3])\n",
        "print(a[1:3,1:2])\n",
        "print(a[2,])\n",
        "print(a[:2],)\n",
        "print(a[:3,])\n",
        "print(a[:3,:2])\n",
        "print(a[:,2])"
      ],
      "execution_count": null,
      "outputs": [
        {
          "output_type": "stream",
          "text": [
            "[[  0   1   4]\n",
            " [  9  16  25]\n",
            " [ 36  49  64]\n",
            " [ 81 100 121]]\n",
            "[[ 9 16 25]\n",
            " [36 49 64]]\n",
            "[[16]\n",
            " [49]]\n",
            "[36 49 64]\n",
            "[[ 0  1  4]\n",
            " [ 9 16 25]]\n",
            "[[ 0  1  4]\n",
            " [ 9 16 25]\n",
            " [36 49 64]]\n",
            "[[ 0  1]\n",
            " [ 9 16]\n",
            " [36 49]]\n",
            "[  4  25  64 121]\n"
          ],
          "name": "stdout"
        }
      ]
    },
    {
      "cell_type": "markdown",
      "metadata": {
        "id": "rNGpRjxosWcs",
        "colab_type": "text"
      },
      "source": [
        "##using negative indentation"
      ]
    },
    {
      "cell_type": "code",
      "metadata": {
        "id": "qU4DxaYRscZc",
        "colab_type": "code",
        "colab": {
          "base_uri": "https://localhost:8080/",
          "height": 85
        },
        "outputId": "cb9ab705-4d64-4a59-8dd2-626a4cef1c48"
      },
      "source": [
        "#1-D array\n",
        "a=np.arange(10)**3\n",
        "print(a)\n",
        "print(a[-1])\n",
        "print(a[-2])\n",
        "print(a[-5:-2])"
      ],
      "execution_count": null,
      "outputs": [
        {
          "output_type": "stream",
          "text": [
            "[  0   1   8  27  64 125 216 343 512 729]\n",
            "729\n",
            "512\n",
            "[125 216 343]\n"
          ],
          "name": "stdout"
        }
      ]
    },
    {
      "cell_type": "code",
      "metadata": {
        "id": "xdaUNHVJtFEX",
        "colab_type": "code",
        "colab": {
          "base_uri": "https://localhost:8080/",
          "height": 153
        },
        "outputId": "44343b82-4813-4645-e314-fdd1060be2cd"
      },
      "source": [
        "#2-D array\n",
        "a=np.arange(12).reshape(4,3)**2 \n",
        "print(a)\n",
        "print(a[-1,])\n",
        "print(a[-1,-1]) \n",
        "print(a[-3:-1,-2:])"
      ],
      "execution_count": null,
      "outputs": [
        {
          "output_type": "stream",
          "text": [
            "[[  0   1   4]\n",
            " [  9  16  25]\n",
            " [ 36  49  64]\n",
            " [ 81 100 121]]\n",
            "[ 81 100 121]\n",
            "121\n",
            "[[16 25]\n",
            " [49 64]]\n"
          ],
          "name": "stdout"
        }
      ]
    },
    {
      "cell_type": "markdown",
      "metadata": {
        "id": "40Vpvf4FtqhL",
        "colab_type": "text"
      },
      "source": [
        "###2-Iterating"
      ]
    },
    {
      "cell_type": "code",
      "metadata": {
        "id": "aTPLO1BNtxe_",
        "colab_type": "code",
        "colab": {
          "base_uri": "https://localhost:8080/",
          "height": 153
        },
        "outputId": "1d270830-d33f-4147-8240-bb63e95bfd16"
      },
      "source": [
        "a=np.arange(12).reshape(4,3)**2\n",
        "print(a)\n",
        "\n",
        "for i in a:\n",
        "    print(i)"
      ],
      "execution_count": null,
      "outputs": [
        {
          "output_type": "stream",
          "text": [
            "[[  0   1   4]\n",
            " [  9  16  25]\n",
            " [ 36  49  64]\n",
            " [ 81 100 121]]\n",
            "[0 1 4]\n",
            "[ 9 16 25]\n",
            "[36 49 64]\n",
            "[ 81 100 121]\n"
          ],
          "name": "stdout"
        }
      ]
    },
    {
      "cell_type": "code",
      "metadata": {
        "id": "boa-IJsxuM1f",
        "colab_type": "code",
        "colab": {
          "base_uri": "https://localhost:8080/",
          "height": 221
        },
        "outputId": "57227943-b96e-4414-9020-ff9136cc4539"
      },
      "source": [
        "for i in a.flat:\n",
        "  print(i)"
      ],
      "execution_count": null,
      "outputs": [
        {
          "output_type": "stream",
          "text": [
            "0\n",
            "1\n",
            "4\n",
            "9\n",
            "16\n",
            "25\n",
            "36\n",
            "49\n",
            "64\n",
            "81\n",
            "100\n",
            "121\n"
          ],
          "name": "stdout"
        }
      ]
    },
    {
      "cell_type": "markdown",
      "metadata": {
        "id": "48R1CXJwucdr",
        "colab_type": "text"
      },
      "source": [
        "##V) Matrix operations on NumPy arrays"
      ]
    },
    {
      "cell_type": "markdown",
      "metadata": {
        "id": "f9Bu2qcRuoHW",
        "colab_type": "text"
      },
      "source": [
        "###1-Difference between resize and reshape"
      ]
    },
    {
      "cell_type": "code",
      "metadata": {
        "id": "80vrBlMVu1jL",
        "colab_type": "code",
        "colab": {
          "base_uri": "https://localhost:8080/",
          "height": 68
        },
        "outputId": "19d7e2b5-d61f-4dbb-aaf5-3b38058895d7"
      },
      "source": [
        "a=np.floor(10*np.random.random((3,4)))\n",
        "a"
      ],
      "execution_count": null,
      "outputs": [
        {
          "output_type": "execute_result",
          "data": {
            "text/plain": [
              "array([[3., 0., 7., 1.],\n",
              "       [2., 0., 4., 5.],\n",
              "       [9., 6., 9., 1.]])"
            ]
          },
          "metadata": {
            "tags": []
          },
          "execution_count": 45
        }
      ]
    },
    {
      "cell_type": "code",
      "metadata": {
        "id": "xay2nF2DvWUA",
        "colab_type": "code",
        "colab": {
          "base_uri": "https://localhost:8080/",
          "height": 51
        },
        "outputId": "c744139c-e661-43a1-e0f1-c6fd1243b801"
      },
      "source": [
        "a.reshape(2,6)"
      ],
      "execution_count": null,
      "outputs": [
        {
          "output_type": "execute_result",
          "data": {
            "text/plain": [
              "array([[3., 0., 7., 1., 2., 0.],\n",
              "       [4., 5., 9., 6., 9., 1.]])"
            ]
          },
          "metadata": {
            "tags": []
          },
          "execution_count": 47
        }
      ]
    },
    {
      "cell_type": "code",
      "metadata": {
        "id": "3QsQZCdIwOAS",
        "colab_type": "code",
        "colab": {
          "base_uri": "https://localhost:8080/",
          "height": 68
        },
        "outputId": "a2af4ddd-642a-4f59-cd9e-b26edb20e625"
      },
      "source": [
        "a"
      ],
      "execution_count": null,
      "outputs": [
        {
          "output_type": "execute_result",
          "data": {
            "text/plain": [
              "array([[3., 0., 7., 1.],\n",
              "       [2., 0., 4., 5.],\n",
              "       [9., 6., 9., 1.]])"
            ]
          },
          "metadata": {
            "tags": []
          },
          "execution_count": 48
        }
      ]
    },
    {
      "cell_type": "code",
      "metadata": {
        "id": "KYjlV_JWwTkU",
        "colab_type": "code",
        "colab": {}
      },
      "source": [
        "a.resize(2,6)"
      ],
      "execution_count": null,
      "outputs": []
    },
    {
      "cell_type": "code",
      "metadata": {
        "id": "1KrP-Ag8wo7K",
        "colab_type": "code",
        "colab": {
          "base_uri": "https://localhost:8080/",
          "height": 51
        },
        "outputId": "7d3218b5-bd4a-4f13-99a3-43bfe921f8db"
      },
      "source": [
        "a"
      ],
      "execution_count": null,
      "outputs": [
        {
          "output_type": "execute_result",
          "data": {
            "text/plain": [
              "array([[3., 0., 7., 1., 2., 0.],\n",
              "       [4., 5., 9., 6., 9., 1.]])"
            ]
          },
          "metadata": {
            "tags": []
          },
          "execution_count": 53
        }
      ]
    },
    {
      "cell_type": "markdown",
      "metadata": {
        "id": "yQ9dHeqdySP6",
        "colab_type": "text"
      },
      "source": [
        "###2-function to flatten an array"
      ]
    },
    {
      "cell_type": "code",
      "metadata": {
        "id": "2WSx_AfgyIoj",
        "colab_type": "code",
        "colab": {
          "base_uri": "https://localhost:8080/",
          "height": 51
        },
        "outputId": "60345847-274a-4342-f084-ac2e307e9679"
      },
      "source": [
        "a.ravel()\n",
        "a"
      ],
      "execution_count": null,
      "outputs": [
        {
          "output_type": "execute_result",
          "data": {
            "text/plain": [
              "array([[3., 0., 7., 1., 2., 0.],\n",
              "       [4., 5., 9., 6., 9., 1.]])"
            ]
          },
          "metadata": {
            "tags": []
          },
          "execution_count": 59
        }
      ]
    },
    {
      "cell_type": "markdown",
      "metadata": {
        "id": "tncpl2VKyYCC",
        "colab_type": "text"
      },
      "source": [
        "###3-To find transpose of matrix"
      ]
    },
    {
      "cell_type": "code",
      "metadata": {
        "id": "dswv0pUFydI_",
        "colab_type": "code",
        "colab": {
          "base_uri": "https://localhost:8080/",
          "height": 119
        },
        "outputId": "f8b392e2-5128-4b80-d507-3e0a7dd56f1b"
      },
      "source": [
        "a.T"
      ],
      "execution_count": null,
      "outputs": [
        {
          "output_type": "execute_result",
          "data": {
            "text/plain": [
              "array([[3., 4.],\n",
              "       [0., 5.],\n",
              "       [7., 9.],\n",
              "       [1., 6.],\n",
              "       [2., 9.],\n",
              "       [0., 1.]])"
            ]
          },
          "metadata": {
            "tags": []
          },
          "execution_count": 60
        }
      ]
    },
    {
      "cell_type": "markdown",
      "metadata": {
        "id": "o0qEZteryme-",
        "colab_type": "text"
      },
      "source": [
        "###4.stacking together different arrays"
      ]
    },
    {
      "cell_type": "code",
      "metadata": {
        "id": "tbgd5ga9ysU5",
        "colab_type": "code",
        "colab": {
          "base_uri": "https://localhost:8080/",
          "height": 85
        },
        "outputId": "d480e0bf-9062-4e7c-9fe3-be721f4926b2"
      },
      "source": [
        "# Create 2 matrices\n",
        "\n",
        "a=np.floor(10*np.random.random((2,2)))\n",
        "print(a)\n",
        "\n",
        "b=np.floor(10*np.random.random((2,2)))\n",
        "print(b)"
      ],
      "execution_count": null,
      "outputs": [
        {
          "output_type": "stream",
          "text": [
            "[[0. 3.]\n",
            " [0. 7.]]\n",
            "[[6. 2.]\n",
            " [7. 4.]]\n"
          ],
          "name": "stdout"
        }
      ]
    },
    {
      "cell_type": "code",
      "metadata": {
        "id": "vWV6Ow8Ey-Mu",
        "colab_type": "code",
        "colab": {
          "base_uri": "https://localhost:8080/",
          "height": 85
        },
        "outputId": "883702be-2079-49f0-81d2-5d8e7f70a73a"
      },
      "source": [
        "np.vstack((a,b))"
      ],
      "execution_count": null,
      "outputs": [
        {
          "output_type": "execute_result",
          "data": {
            "text/plain": [
              "array([[0., 1.],\n",
              "       [7., 2.],\n",
              "       [4., 2.],\n",
              "       [0., 5.]])"
            ]
          },
          "metadata": {
            "tags": []
          },
          "execution_count": 62
        }
      ]
    },
    {
      "cell_type": "code",
      "metadata": {
        "id": "rOSD3fXszF0J",
        "colab_type": "code",
        "colab": {
          "base_uri": "https://localhost:8080/",
          "height": 51
        },
        "outputId": "4bcff0f2-7c1d-4e0d-f0dc-5c232da3be3f"
      },
      "source": [
        "np.hstack((a,b))"
      ],
      "execution_count": null,
      "outputs": [
        {
          "output_type": "execute_result",
          "data": {
            "text/plain": [
              "array([[0., 1., 4., 2.],\n",
              "       [7., 2., 0., 5.]])"
            ]
          },
          "metadata": {
            "tags": []
          },
          "execution_count": 63
        }
      ]
    },
    {
      "cell_type": "markdown",
      "metadata": {
        "id": "yOcRuoBLzMZx",
        "colab_type": "text"
      },
      "source": [
        "###5-splitting one array into several smaller ones"
      ]
    },
    {
      "cell_type": "code",
      "metadata": {
        "id": "RDpNAIqDzi6r",
        "colab_type": "code",
        "colab": {
          "base_uri": "https://localhost:8080/",
          "height": 119
        },
        "outputId": "0327a3b4-0f9f-4491-aee1-9ad7a8a79cc5"
      },
      "source": [
        "a=np.array([[11,12,13,14,15,16],[17,19,23,24,25,34]])\n",
        "print(a)\n",
        "\n",
        "np.hsplit(a,3) "
      ],
      "execution_count": null,
      "outputs": [
        {
          "output_type": "stream",
          "text": [
            "[[11 12 13 14 15 16]\n",
            " [17 19 23 24 25 34]]\n"
          ],
          "name": "stdout"
        },
        {
          "output_type": "execute_result",
          "data": {
            "text/plain": [
              "[array([[11, 12],\n",
              "        [17, 19]]), array([[13, 14],\n",
              "        [23, 24]]), array([[15, 16],\n",
              "        [25, 34]])]"
            ]
          },
          "metadata": {
            "tags": []
          },
          "execution_count": 65
        }
      ]
    },
    {
      "cell_type": "code",
      "metadata": {
        "id": "YzSPF_jvznaP",
        "colab_type": "code",
        "colab": {
          "base_uri": "https://localhost:8080/",
          "height": 85
        },
        "outputId": "734a096e-31f7-4364-f8eb-f0985a6aa045"
      },
      "source": [
        "np.hsplit(a,(3,4))"
      ],
      "execution_count": null,
      "outputs": [
        {
          "output_type": "execute_result",
          "data": {
            "text/plain": [
              "[array([[11, 12, 13],\n",
              "        [17, 19, 23]]), array([[14],\n",
              "        [24]]), array([[15, 16],\n",
              "        [25, 34]])]"
            ]
          },
          "metadata": {
            "tags": []
          },
          "execution_count": 66
        }
      ]
    },
    {
      "cell_type": "code",
      "metadata": {
        "id": "UXn8zrYXzt0W",
        "colab_type": "code",
        "colab": {
          "base_uri": "https://localhost:8080/",
          "height": 34
        },
        "outputId": "f707d31b-7759-4efe-967a-0113f40101c4"
      },
      "source": [
        "np.vsplit(a,2)"
      ],
      "execution_count": null,
      "outputs": [
        {
          "output_type": "execute_result",
          "data": {
            "text/plain": [
              "[array([[11, 12, 13, 14, 15, 16]]), array([[17, 19, 23, 24, 25, 34]])]"
            ]
          },
          "metadata": {
            "tags": []
          },
          "execution_count": 68
        }
      ]
    },
    {
      "cell_type": "markdown",
      "metadata": {
        "id": "KSsb7-1nz06G",
        "colab_type": "text"
      },
      "source": [
        "###6-Broadcasting"
      ]
    },
    {
      "cell_type": "code",
      "metadata": {
        "id": "XRmbnwVQz9_K",
        "colab_type": "code",
        "colab": {
          "base_uri": "https://localhost:8080/",
          "height": 34
        },
        "outputId": "d6c20fd9-61dc-494f-e4b4-12b55ef5077a"
      },
      "source": [
        "a=np.array([[11,22,33],[44,55,66],[12,14,34]])\n",
        "a\n",
        "\n",
        "b=np.array([1,2,3])\n",
        "b"
      ],
      "execution_count": null,
      "outputs": [
        {
          "output_type": "execute_result",
          "data": {
            "text/plain": [
              "array([1, 2, 3])"
            ]
          },
          "metadata": {
            "tags": []
          },
          "execution_count": 69
        }
      ]
    },
    {
      "cell_type": "code",
      "metadata": {
        "id": "Y0w7apoi0E14",
        "colab_type": "code",
        "colab": {
          "base_uri": "https://localhost:8080/",
          "height": 68
        },
        "outputId": "e3aa77e0-e15a-4eb4-c5b5-0b064e326bed"
      },
      "source": [
        "c=a+b\n",
        "c"
      ],
      "execution_count": null,
      "outputs": [
        {
          "output_type": "execute_result",
          "data": {
            "text/plain": [
              "array([[12, 24, 36],\n",
              "       [45, 57, 69],\n",
              "       [13, 16, 37]])"
            ]
          },
          "metadata": {
            "tags": []
          },
          "execution_count": 70
        }
      ]
    }
  ]
}